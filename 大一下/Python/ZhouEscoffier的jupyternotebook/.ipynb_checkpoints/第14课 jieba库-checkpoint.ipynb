{
 "cells": [
  {
   "cell_type": "markdown",
   "id": "7f32978f-f0bd-43da-90fa-42e8bc6266e7",
   "metadata": {},
   "source": [
    "## **第14课 jieba库（主要功能分词和统计词频）**"
   ]
  },
  {
   "cell_type": "markdown",
   "id": "3bb446e0-9677-4210-a67d-73efbcfcd16c",
   "metadata": {},
   "source": [
    "**jieba常用函数：**\n",
    "```python\n",
    "import jieba\n",
    "jieba.cut(s) #精确模式，返回一个可迭代的数据类型\n",
    "jieba.cut(s,cut_all=True) #全模式，输出文本s中所有可能的单词\n",
    "jieba.cut_for_search(s) #搜索引擎模式，适合搜索引擎建立索引的分词结果\n",
    "***\n",
    "jieba.lcut(s) #建议使用，精确模式，返回一个列表类型\n",
    "jieba.lcut(s,cut_all=True) #建议使用，全模式，返回一个列表类型\n",
    "jieba.lcut_for_search(s) #建议使用，搜索引擎模式，返回一个列表类型\n",
    "***\n",
    "jieba.add_word(w)\n",
    "```"
   ]
  },
  {
   "cell_type": "code",
   "execution_count": 1,
   "id": "ebb937a8-926c-4742-8cdb-26ff12342b7e",
   "metadata": {},
   "outputs": [
    {
     "name": "stderr",
     "output_type": "stream",
     "text": [
      "Building prefix dict from the default dictionary ...\n",
      "Loading model from cache C:\\Users\\ASUS\\AppData\\Local\\Temp\\jieba.cache\n",
      "Loading model cost 1.512 seconds.\n",
      "Prefix dict has been built successfully.\n"
     ]
    },
    {
     "data": {
      "text/plain": [
       "['中国', '是', '一个', '伟大', '的', '国家']"
      ]
     },
     "execution_count": 1,
     "metadata": {},
     "output_type": "execute_result"
    }
   ],
   "source": [
    "import jieba\n",
    "jieba.lcut(\"中国是一个伟大的国家\")"
   ]
  },
  {
   "cell_type": "code",
   "execution_count": 2,
   "id": "59540656-44c9-4c8b-89b7-faaffc1d9a76",
   "metadata": {},
   "outputs": [
    {
     "data": {
      "text/plain": [
       "['中华人民共和国', '是', '一个', '伟大', '的', '国家']"
      ]
     },
     "execution_count": 2,
     "metadata": {},
     "output_type": "execute_result"
    }
   ],
   "source": [
    "import jieba\n",
    "jieba.lcut(\"中华人民共和国是一个伟大的国家\")"
   ]
  },
  {
   "cell_type": "code",
   "execution_count": 3,
   "id": "a9be33d0-a45b-48f6-99e7-06e660197c02",
   "metadata": {},
   "outputs": [
    {
     "data": {
      "text/plain": [
       "['中华',\n",
       " '中华人民',\n",
       " '中华人民共和国',\n",
       " '华人',\n",
       " '人民',\n",
       " '人民共和国',\n",
       " '共和',\n",
       " '共和国',\n",
       " '国是',\n",
       " '一个',\n",
       " '伟大',\n",
       " '的',\n",
       " '国家']"
      ]
     },
     "execution_count": 3,
     "metadata": {},
     "output_type": "execute_result"
    }
   ],
   "source": [
    "import jieba\n",
    "jieba.lcut(\"中华人民共和国是一个伟大的国家\",cut_all=True)"
   ]
  },
  {
   "cell_type": "code",
   "execution_count": 4,
   "id": "e4638e2e-8578-488f-be98-c77524c11bbf",
   "metadata": {},
   "outputs": [
    {
     "data": {
      "text/plain": [
       "['中华', '华人', '人民', '共和', '共和国', '中华人民共和国', '是', '一个', '伟大', '的', '国家']"
      ]
     },
     "execution_count": 4,
     "metadata": {},
     "output_type": "execute_result"
    }
   ],
   "source": [
    "import jieba\n",
    "jieba.lcut_for_search(\"中华人民共和国是一个伟大的国家\")"
   ]
  }
 ],
 "metadata": {
  "kernelspec": {
   "display_name": "Python 3 (ipykernel)",
   "language": "python",
   "name": "python3"
  },
  "language_info": {
   "codemirror_mode": {
    "name": "ipython",
    "version": 3
   },
   "file_extension": ".py",
   "mimetype": "text/x-python",
   "name": "python",
   "nbconvert_exporter": "python",
   "pygments_lexer": "ipython3",
   "version": "3.11.7"
  },
  "widgets": {
   "application/vnd.jupyter.widget-state+json": {
    "state": {},
    "version_major": 2,
    "version_minor": 0
   }
  }
 },
 "nbformat": 4,
 "nbformat_minor": 5
}
