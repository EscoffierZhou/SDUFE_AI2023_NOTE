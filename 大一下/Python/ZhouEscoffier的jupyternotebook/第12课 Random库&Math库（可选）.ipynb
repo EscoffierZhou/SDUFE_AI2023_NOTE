{
 "cells": [
  {
   "cell_type": "markdown",
   "id": "fa19d462-b961-48ad-aeea-404e40ebf459",
   "metadata": {},
   "source": [
    "## **第12课 Random库&Math库**"
   ]
  },
  {
   "cell_type": "code",
   "execution_count": 7,
   "id": "2ddc35b8-2f27-4c13-941c-3088e80fbbdf",
   "metadata": {},
   "outputs": [
    {
     "name": "stdout",
     "output_type": "stream",
     "text": [
      "3\n"
     ]
    }
   ],
   "source": [
    "import random  \n",
    "# 注意 导入以后也不是Python内置的函数\n",
    "# 隶属于Random库下的函数，所以调用都是 random.func()\n",
    "print(\"下面是考试可能会考的\")\n",
    "print(random.random()) # 返回一个[0.0, 1.0)之间的随机浮点数。\n",
    "# 注意的是：固定用法里面没有参数\n",
    "\n",
    "print(random.randint(1, 10)) # 返回一个[a, b]之间的随机整数（包括a和b）\n",
    "# 注意的是此处是闭区间\n",
    "\n",
    "print(random.randrange(1, 10))  # 等同于 randint(1, 9)  \n",
    "print(random.randrange(0, 10, 2))  # 返回0, 2, 4, 6, 8中的一个\n",
    "# 注意的是此处就满足3s法则,并且至少有一个参数\n",
    "\n",
    "print(\"考的几率很小（5%）的\")\n",
    "print(uniform(1,100)) #返回"
   ]
  },
  {
   "cell_type": "code",
   "execution_count": 8,
   "id": "fc537c6d-a5bc-436d-af49-1579a7af837d",
   "metadata": {},
   "outputs": [
    {
     "ename": "NameError",
     "evalue": "name 'x' is not defined",
     "output_type": "error",
     "traceback": [
      "\u001b[1;31m---------------------------------------------------------------------------\u001b[0m",
      "\u001b[1;31mNameError\u001b[0m                                 Traceback (most recent call last)",
      "Cell \u001b[1;32mIn[8], line 8\u001b[0m\n\u001b[0;32m      6\u001b[0m math\u001b[38;5;241m.\u001b[39mnan\u001b[38;5;66;03m#非浮点数标记（NAN NOT A NUMBER）\u001b[39;00m\n\u001b[0;32m      7\u001b[0m \u001b[38;5;66;03m#必要的math库\u001b[39;00m\n\u001b[1;32m----> 8\u001b[0m math\u001b[38;5;241m.\u001b[39mceil(\u001b[43mx\u001b[49m)\u001b[38;5;66;03m#向上取整\u001b[39;00m\n\u001b[0;32m      9\u001b[0m math\u001b[38;5;241m.\u001b[39mfloor(x)\u001b[38;5;66;03m#向下取整\u001b[39;00m\n\u001b[0;32m     10\u001b[0m math\u001b[38;5;241m.\u001b[39mfactorial(x)\u001b[38;5;66;03m#返回x的阶乘\u001b[39;00m\n",
      "\u001b[1;31mNameError\u001b[0m: name 'x' is not defined"
     ]
    }
   ],
   "source": [
    "import math\n",
    "#必要的math常数\n",
    "math.pi\n",
    "math.e\n",
    "math.inf#-math.inf\n",
    "math.nan#非浮点数标记（NAN NOT A NUMBER）\n",
    "\n",
    "\n",
    "math.ceil(x)#向上取整\n",
    "math.floor(x)#向下取整\n",
    "math.factorial(x)#返回x的阶乘\n",
    "math.gcd(a,b)#返回最大公约数\n",
    "\n",
    "\n",
    "math.sqrt(x)\n",
    "math.factorial(x)\n",
    "math.degree(x)\n",
    "math.radians(x)#返回x的弧度制"
   ]
  },
  {
   "cell_type": "code",
   "execution_count": null,
   "id": "10ef89a3-bc34-47b4-8bf5-7c7a3754347e",
   "metadata": {},
   "outputs": [],
   "source": []
  },
  {
   "cell_type": "code",
   "execution_count": null,
   "id": "6c0c07ad-153a-4122-a4cf-84c54c99c4ee",
   "metadata": {},
   "outputs": [],
   "source": []
  }
 ],
 "metadata": {
  "kernelspec": {
   "display_name": "Python 3 (ipykernel)",
   "language": "python",
   "name": "python3"
  },
  "language_info": {
   "codemirror_mode": {
    "name": "ipython",
    "version": 3
   },
   "file_extension": ".py",
   "mimetype": "text/x-python",
   "name": "python",
   "nbconvert_exporter": "python",
   "pygments_lexer": "ipython3",
   "version": "3.11.7"
  },
  "widgets": {
   "application/vnd.jupyter.widget-state+json": {
    "state": {},
    "version_major": 2,
    "version_minor": 0
   }
  }
 },
 "nbformat": 4,
 "nbformat_minor": 5
}
