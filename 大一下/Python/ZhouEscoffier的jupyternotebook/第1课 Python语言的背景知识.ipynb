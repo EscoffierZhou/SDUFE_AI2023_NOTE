{
 "cells": [
  {
   "cell_type": "markdown",
   "id": "db225e82-2cdf-40f8-a79c-9a705e243f2e",
   "metadata": {},
   "source": [
    "### **1.1 计算机的概念**"
   ]
  },
  {
   "cell_type": "markdown",
   "id": "4ebb0cc3-93cf-4197-974e-764fecb86e24",
   "metadata": {},
   "source": [
    "计算机的定义：计算机时根据指令操作数据的设备，具备功能性和可编程性（发展主要围绕这两个性质展开）\n",
    "\n",
    ">一方面：计算机硬件所以来的集成电路规模按摩尔定律指数级增长\n",
    "\n",
    ">一方面：表达计算机语言，从机器语言到汇编语言到人类自然语言\n",
    "\n",
    "**摩尔定律指出，单位面积集成电路上可容纳晶体管的数量约每两年翻一倍（计组也有）**"
   ]
  },
  {
   "cell_type": "markdown",
   "id": "bd2b88e6-c1fa-4693-9d55-0b17552601d6",
   "metadata": {},
   "source": [
    "**定理**\n",
    ">1.计算机时根据指令操作数据的设备，具备功能性和可编程性两个基本特性\n",
    "\n",
    ">2.计算机硬件的发展趋势基本符合摩尔定律\n",
    "\n",
    ">3.计算机性能主要依赖计算机的硬件设备和软件系统\n",
    "\n",
    ">4.1946-1981年，计算机技术的发展处于“计算机系统结构阶段”，能够在有限资源下高效运行的C语言大行其道\n",
    "\n",
    ">5.程序设计的语言包括：机器语言，编程语言和高级程序语言\n",
    "\n",
    ">6.机器语言编写可以被计算机直接识别，而高级语言编写的程序不能\n",
    "\n",
    ">7.Python语言属于高级程序语言，需要安装解释器后，才能被计算机识别\n",
    "\n",
    ">8.Python语言时1990年，由荷兰人Guidovan Rossum设计并领导开发\n",
    "\n",
    ">9.Python语言具有代码简洁，与平台无关，粘性拓展，开源理念，支持中文，类库丰富"
   ]
  },
  {
   "cell_type": "markdown",
   "id": "ab9e123f-6f15-4b3b-9328-6314e1d6177f",
   "metadata": {},
   "source": [
    "## **Homework**"
   ]
  },
  {
   "cell_type": "markdown",
   "id": "082caf55-48f2-4957-add7-d7b7d47f0ade",
   "metadata": {},
   "source": [
    "**1.计算机是根据指令操作数据的设备，具备功能性和可编程性两个基本特性。（对）**\n",
    "\n",
    "**2. (判断题)计算机硬件的发展趋势基本符合摩尔定律，即：价格不变的情况下，大约一年半到两年，硬件的存储容量翻一番。（对）**\n",
    "\n",
    "**3. (判断题)计算机的性能主要依赖计算机的硬件设备(如：CPU、内存、硬盘的性能)，和计算机的软件系统关系不大。（ 错）**\n",
    ">**答案解析：计算机的性能好坏既依赖硬件子系统，也依赖软件子系统，一个典型的特例是：一台高性能的计算机，安装32位操作系统、或16位操作系统，性能潜能不可能发挥出来，表现出的性能并不好。**\n",
    ">\n",
    "**4. (判断题)1946年-1981年，计算机技术的发展处于“计算机系统结构阶段”，能够在有限存储资源下高效运行的C语言大行其道。（对）**\n",
    "\n",
    "**5. (判断题)按照程序设计语言的发展历程分类，包括两类：机器语言和高级程序语言。（错）**\n",
    ">**答案解析：程序设计语言包括: 机器语言、汇编语言、高级程序语言。**\n",
    ">\n",
    "**6. (判断题)机器语言编写的程序可以被计算机直接识别，而高级语言编写的程序却不能。（对）**\n",
    "\n",
    "**7. (判断题)Python语言只有安装解释器后，才能够被计算机识别。（ 对 ）**\n",
    "\n",
    "**8. (判断题)Python语言是1990年，由荷兰人Guido van Rossum设计并领导开发。( 对 )**\n",
    "\n",
    "**9. (判断题)Python语言具有代码简洁、与平台无关、粘性扩展、开源理念、支持中文、类库丰富等优点。 （ 对 ）**\n"
   ]
  },
  {
   "cell_type": "markdown",
   "id": "2c2112e6-38ee-4934-bcb0-fb59f4d0d701",
   "metadata": {},
   "source": [
    "***\n",
    "#### **第二题：程序题**"
   ]
  },
  {
   "cell_type": "code",
   "execution_count": 3,
   "id": "e797dc81-2fca-4734-a00d-f569295c83c2",
   "metadata": {},
   "outputs": [
    {
     "name": "stdin",
     "output_type": "stream",
     "text": [
      "随便输点东西 1\n"
     ]
    },
    {
     "name": "stdout",
     "output_type": "stream",
     "text": [
      "你现在会Python了\n"
     ]
    }
   ],
   "source": [
    "\"\"\"\n",
    "学习使用input( )和print( )函数。要求：\n",
    "\n",
    "输出给自己加油打气的一句话，或者你最喜欢的语句。\n",
    "\"\"\"\n",
    "input(\"随便输点东西\")\n",
    "print(\"你现在会Python了\")"
   ]
  },
  {
   "cell_type": "code",
   "execution_count": 9,
   "id": "e600343c-d102-430b-9285-737f623131f9",
   "metadata": {},
   "outputs": [
    {
     "name": "stdin",
     "output_type": "stream",
     "text": [
      "Do you desire to learn PPPPython?\n",
      " no\n"
     ]
    },
    {
     "name": "stdout",
     "output_type": "stream",
     "text": [
      "Great , then let's go\n"
     ]
    }
   ],
   "source": [
    "###HOMEWORK\n",
    "#this is a comment by 202318140413\n",
    "#Learn:input and printif-else）\n",
    "\n",
    "text = input(\"Do you desire to learn PPPPython?\\n\")\n",
    "if \"yes\" or \"Yes\" in text:\n",
    "    print(\"Great , then let's go\")\n",
    "else:\n",
    "    print(\"Go to CS\")"
   ]
  },
  {
   "cell_type": "code",
   "execution_count": 5,
   "id": "efd6aec2-70a9-439c-94a2-8109590256eb",
   "metadata": {},
   "outputs": [
    {
     "name": "stdout",
     "output_type": "stream",
     "text": [
      "15\n"
     ]
    }
   ],
   "source": [
    "\"\"\"\n",
    "学习使用print( )函数。要求：输出从1累加到5的结果。\n",
    "\n",
    "请将程序及运行结果，拍照上传到本题的答案处\n",
    "\"\"\"\n",
    "###HOMEWORK\n",
    "#This is a comment by 202318140413\n",
    "#learn summation（While）\n",
    "i=1\n",
    "sum=0\n",
    "while(i<=5):\n",
    "    sum+=i\n",
    "    i+=1    \n",
    "print(sum)\n",
    "#Straightly make summation:\n",
    "print(1+2+3+4+5)"
   ]
  },
  {
   "cell_type": "markdown",
   "id": "ab721c37-e547-496c-a3da-02c37bed53aa",
   "metadata": {},
   "source": [
    "***\n",
    "#### **第三题填空题**"
   ]
  },
  {
   "cell_type": "code",
   "execution_count": 7,
   "id": "c912b45a-5ac8-4971-9cfd-a7500f90e938",
   "metadata": {},
   "outputs": [
    {
     "name": "stdout",
     "output_type": "stream",
     "text": [
      "张三\n",
      "<class 'str'>\n"
     ]
    }
   ],
   "source": [
    "\"\"\"\n",
    "1）已有语句 name = \" 张三\"，请输出name，代码如下：第1空\n",
    "2）name的数据类型type是 第2空\n",
    "\"\"\"\n",
    "name = \"张三\"\n",
    "print(name)\n",
    "print(type(name))\n",
    "\n",
    "\"\"\"\n",
    "(1) print(name); print(\"张三\")\n",
    "(2) str; string；字符串；字符串型\n",
    "\"\"\""
   ]
  },
  {
   "cell_type": "code",
   "execution_count": 8,
   "id": "fed0cb47-6cbe-461f-89cd-b4b0f0f2d86d",
   "metadata": {},
   "outputs": [
    {
     "name": "stdout",
     "output_type": "stream",
     "text": [
      "20\n",
      "<class 'int'>\n"
     ]
    }
   ],
   "source": [
    "\"\"\"\n",
    "学习使用input( )和print( )函数。要求：\n",
    "\n",
    "1）已有语句 age=20，请输出age，代码如下：第1空\n",
    "\n",
    "2）age的数据类型type是 第2空\n",
    "\"\"\"\n",
    "\n",
    "age = 20\n",
    "print(age)\n",
    "print(type(age))"
   ]
  }
 ],
 "metadata": {
  "kernelspec": {
   "display_name": "Python 3 (ipykernel)",
   "language": "python",
   "name": "python3"
  },
  "language_info": {
   "codemirror_mode": {
    "name": "ipython",
    "version": 3
   },
   "file_extension": ".py",
   "mimetype": "text/x-python",
   "name": "python",
   "nbconvert_exporter": "python",
   "pygments_lexer": "ipython3",
   "version": "3.11.7"
  },
  "widgets": {
   "application/vnd.jupyter.widget-state+json": {
    "state": {},
    "version_major": 2,
    "version_minor": 0
   }
  }
 },
 "nbformat": 4,
 "nbformat_minor": 5
}
