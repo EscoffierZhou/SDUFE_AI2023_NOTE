{
 "cells": [
  {
   "cell_type": "markdown",
   "id": "5a2ac3f2-bbe6-4094-994c-19db03449970",
   "metadata": {},
   "source": [
    "## **第5课 章节复习+程序异常处理**\n",
    "***"
   ]
  },
  {
   "cell_type": "markdown",
   "id": "4e4c2f66-750f-4847-93e1-44fdccc7c3f9",
   "metadata": {},
   "source": [
    "**1.学习程序异常的目的：用户输入错误要求的数据时，进行必要的反馈**\n",
    "**2.异常的高级用法：支持多个except语句**\n",
    ">**常见ERRORFORM：SyntaxError，NameError**\n",
    "```python\n",
    "try:\n",
    "    <part1>\n",
    "except<Error_form1>\n",
    " <part2>\n",
    "except<Error_form2> \n",
    "<part3>\n",
    "\n",
    "```\n",
    "**示例：**\n",
    "```python\n",
    "try:\n",
    "    num = eval(input(\"Insert a integer\\n\"))\n",
    "    print(num**2)\n",
    "except NameError:\n",
    "    print(\"Wrong input,insert a number\")\n",
    "#事实上只能检测出大类，对于数字具体的整型浮点型无法控制\n",
    "#并且输入是不可控的，所以是根据Error_form来实现的功能\n",
    "```\n",
    "\n",
    "**需要注意的是，这是一个类似于if-elif-else的语句，多选一且第一句必须执行**\n",
    "\n",
    "**除了try-except体系以外，还有try-except-else-finally体系**\n",
    "```python\n",
    "try:\n",
    "    <语句块1>\n",
    "except<异常类型>：\n",
    "    <语句块2>\n",
    "else:\n",
    "    <语句块3>\n",
    "finally:\n",
    "    <语句块4>\n",
    "```\n",
    "**这个就比较讨嫌了，老师喜欢考爱考，下面解释一下：**\n",
    ">**不论程序是否出现异常，try语句和finally语句是必走的**\n",
    ">\n",
    ">**对于程序块1而言**\n",
    ">\n",
    ">>**没有出现异常的话：try->执行else语句->finally**\n",
    ">\n",
    ">>**出现异常的话：try->执行except语句->finally**"
   ]
  },
  {
   "cell_type": "markdown",
   "id": "85f65d09-a62c-4166-8b9a-7a44f6e18b01",
   "metadata": {},
   "source": [
    "***\n",
    "## **Homewok**\n",
    "***\n",
    "**1. (单选题)以下程序的输出结果是(　D　）**\n",
    "```python\n",
    "x= 10\n",
    "while x:\n",
    "    x = x - 1\n",
    "    if not x%2:\n",
    "        print(x,end = '，')\n",
    "else:\n",
    "    print(x)\n",
    "```\n",
    ">**A. 10,8,6,4,2,0,**\n",
    ">\n",
    ">**B. 8,6,4,2,0,**\n",
    ">\n",
    ">**C. 9,7,5,3,1,**\n",
    ">\n",
    ">**D. 8,6,4,2,0,0**\n",
    ">\n",
    "**2. (单选题)下列代码的运行结果是（ C ）**\n",
    "```python\n",
    "a=1\n",
    "try:\n",
    "    a=a+1\n",
    "except:\n",
    "    a=a+1\n",
    "else:\n",
    "    a=a+1\n",
    "finally:\n",
    "    a=a+1\n",
    "print(a)\n",
    "```\n",
    ">**A. 2**\n",
    ">\n",
    ">**B. 3**\n",
    ">\n",
    ">**C. 4**\n",
    ">\n",
    ">**D. 5**\n",
    ">\n",
    "***\n",
    "**3. (简答题)**\n",
    ">**编写程序实现猜数字游戏功能**\n",
    ">\n",
    ">**1）计算机用random库随机生成一个0-100之间的整数num，用户通过键盘输入所猜之数guess。**\n",
    ">\n",
    ">**2) 如果guess大于num，显示“遗憾，太大了”； 如果guess小于于num，显示“遗憾，太小了”；如果二者相同，显示“恭喜，你猜对了”。**\n",
    ">\n",
    ">**3）要求用户猜测的次数不能超过5次。**\n",
    ">\n",
    ">**4）用户可以通过输入q（大小写均可）退出猜数字游戏。**\n",
    ">\n",
    ">**5）无论是否用户输入什么，系统都给出已经猜测次数的提醒。**\n",
    ">\n",
    ">**6）能对用户输入的异常字符进行处理。**"
   ]
  },
  {
   "cell_type": "code",
   "execution_count": 1,
   "id": "ba69f39c-83a2-4d07-a632-220a4a317380",
   "metadata": {},
   "outputs": [
    {
     "name": "stdin",
     "output_type": "stream",
     "text": [
      "input an integer that you guessed\n",
      " 90\n"
     ]
    },
    {
     "name": "stdout",
     "output_type": "stream",
     "text": [
      "Too small! try again^_^!you have 4 time(s) left\n"
     ]
    },
    {
     "name": "stdin",
     "output_type": "stream",
     "text": [
      "input an integer that you guessed\n",
      " 99\n"
     ]
    },
    {
     "name": "stdout",
     "output_type": "stream",
     "text": [
      "Too big! try again^_^!you have 3 time(s) left\n"
     ]
    },
    {
     "name": "stdin",
     "output_type": "stream",
     "text": [
      "input an integer that you guessed\n",
      " 95\n"
     ]
    },
    {
     "name": "stdout",
     "output_type": "stream",
     "text": [
      "Too small! try again^_^!you have 2 time(s) left\n"
     ]
    },
    {
     "name": "stdin",
     "output_type": "stream",
     "text": [
      "input an integer that you guessed\n",
      " 97\n"
     ]
    },
    {
     "name": "stdout",
     "output_type": "stream",
     "text": [
      "Too small! try again^_^!you have 1 time(s) left\n"
     ]
    },
    {
     "name": "stdin",
     "output_type": "stream",
     "text": [
      "input an integer that you guessed\n",
      " 98\n"
     ]
    },
    {
     "name": "stdout",
     "output_type": "stream",
     "text": [
      "congrats,you made it in 5 time(s)\n"
     ]
    }
   ],
   "source": [
    "#This is a comment by 周兴 202318140413\n",
    "import random\n",
    "\n",
    "x=random.randint(0,100)\n",
    "\n",
    "cnt=0\n",
    "while 1:\n",
    "    if(cnt==5):\n",
    "        print(\"YOU FAILED,TRY AGAIN\")\n",
    "        break\n",
    "    cnt = cnt+1\n",
    "    str = input(\"input an integer that you guessed\\n\")\n",
    "    if(str=='q' or str =='Q'):\n",
    "    #if str in['Q','q']:   //The same\n",
    "        print(\"YOU FAILED,YOU QUIT\")\n",
    "        break\n",
    "    try:\n",
    "        num = eval(str)\n",
    "    except SyntaxError:\n",
    "        print(\"Wrong input,insert a number,this is your %d time(s) of input,last %d times\" % (cnt,5-cnt))\n",
    "        continue\n",
    "    except NameError:\n",
    "        print(\"Wrong input,insert a number,this is your %d time(s) of input,last %d times\" % (cnt,5-cnt))\n",
    "        continue\n",
    "    if(num>x):\n",
    "        print(\"Too big! try again^_^!you have %d time(s) left\" % (5-cnt))\n",
    "    elif(num==x):\n",
    "        print(\"congrats,you made it in %d time(s)\" % cnt)\n",
    "        break\n",
    "    else:\n",
    "        print(\"Too small! try again^_^!you have %d time(s) left\" % (5-cnt))"
   ]
  },
  {
   "attachments": {
    "e03c5c3c-b97e-4a58-b8e6-622dac4f8657.png": {
     "image/png": "[encoded data removed]"
    }
   },
   "cell_type": "markdown",
   "id": "45495884-dc91-4b9e-a3f9-b46b1daac559",
   "metadata": {},
   "source": [
    "**4. (简答题)编写程序实现输出9*9乘法表功能。**\n",
    "![image.png](attachment:e03c5c3c-b97e-4a58-b8e6-622dac4f8657.png)"
   ]
  },
  {
   "cell_type": "code",
   "execution_count": 2,
   "id": "89c4f36c-75b8-4211-ad4b-e8e1b7ca75f8",
   "metadata": {},
   "outputs": [
    {
     "name": "stdout",
     "output_type": "stream",
     "text": [
      "1*1=1 \n",
      "2*1=2 2*2=4 \n",
      "3*1=3 3*2=6 3*3=9 \n",
      "4*1=4 4*2=8 4*3=12 4*4=16 \n",
      "5*1=5 5*2=10 5*3=15 5*4=20 5*5=25 \n",
      "6*1=6 6*2=12 6*3=18 6*4=24 6*5=30 6*6=36 \n",
      "7*1=7 7*2=14 7*3=21 7*4=28 7*5=35 7*6=42 7*7=49 \n",
      "8*1=8 8*2=16 8*3=24 8*4=32 8*5=40 8*6=48 8*7=56 8*8=64 \n",
      "9*1=9 9*2=18 9*3=27 9*4=36 9*5=45 9*6=54 9*7=63 9*8=72 9*9=81 \n"
     ]
    }
   ],
   "source": [
    "#This is a comment by 周兴 202318140413\n",
    "\n",
    "for i in range (1,10):\n",
    "   for j in range (1,i+1):\n",
    "        print(\"%d*%d=%d \" % (i,j,i*j),end=\"\")\n",
    "        if(i==j):\n",
    "            print(\"\")"
   ]
  },
  {
   "cell_type": "markdown",
   "id": "aed81d56-a8b2-46b2-9ecc-13c802a68eb1",
   "metadata": {},
   "source": [
    "**5. (简答题)编写程序实现求最大倍数。**\n",
    ">\n",
    ">**1）计算机随机生成一个1-100之间的整数，用户输入一个整数。两个整数较大的用N表示，较小的用n表示。**\n",
    ">\n",
    ">**2）如果N能被n整除，则输出“N是n的...倍”，否则找出不大于N的最大的n的倍数，且输出类似“...是n的...倍”的信息；**\n",
    ">\n",
    ">**3）能用try...except给出错误提示。**"
   ]
  },
  {
   "cell_type": "code",
   "execution_count": 3,
   "id": "ad241e49-feae-43bb-9014-296a742190af",
   "metadata": {},
   "outputs": [
    {
     "name": "stdin",
     "output_type": "stream",
     "text": [
      "Insert an integer:  90\n"
     ]
    },
    {
     "name": "stdout",
     "output_type": "stream",
     "text": [
      "The random number is 80\n",
      "80 is the nearest number that is 1 times bigger than n\n"
     ]
    }
   ],
   "source": [
    "import random\n",
    "\n",
    "x=random.randint(1, 100)\n",
    "flag=0\n",
    "\n",
    "while flag==0:\n",
    "    num_str=input(\"Insert an integer: \")\n",
    "    if not num_str.isdigit():\n",
    "        print(\"Wrong input, insert a number\")\n",
    "        continue\n",
    "    else:\n",
    "        break\n",
    "\n",
    "print(\"The random number is %d\" % x)\n",
    "if x<num:\n",
    "    x,num=num,x\n",
    "\n",
    "if x%num==0:\n",
    "    print('N is %d times bigger than n' % (x//num))\n",
    "else:\n",
    "    while True:\n",
    "        x=x-1\n",
    "        if x%num == 0:\n",
    "            print('%d is the nearest number that is %d times bigger than n' % (x,x//num))\n",
    "            break"
   ]
  },
  {
   "cell_type": "markdown",
   "id": "d955974f-5a8d-48e6-9c96-6dd91a893c49",
   "metadata": {},
   "source": [
    "**6. (简答题)编写程序实现求最大公约数。**\n",
    ">\n",
    ">**1）计算机随机生成两个1-100之间的整数，两个整数较大的用N表示，较小的用n表示。**\n",
    ">\n",
    ">**2）输出n和N的最大公约数.**\n",
    "\n",
    "\n"
   ]
  },
  {
   "cell_type": "code",
   "execution_count": 8,
   "id": "fd698ee1-558f-4d13-a05a-44d9d1e53139",
   "metadata": {},
   "outputs": [
    {
     "name": "stdout",
     "output_type": "stream",
     "text": [
      "The N is 62\n",
      "The n is 32\n",
      "The biggest common factor is 2\n"
     ]
    }
   ],
   "source": [
    "import random\n",
    "\n",
    "N=random.randint(1, 100)\n",
    "n=random.randint(1, 100)\n",
    "if N<n:\n",
    "    N,n=n,N\n",
    "    print(\"The N is %d\" % N)\n",
    "    print(\"The n is %d\" % n)\n",
    "    for i in range(n,1,-1):\n",
    "        if(N%i==0 and n%i==0):\n",
    "            print(\"The biggest common factor is %d\" % i)\n",
    "            break"
   ]
  }
 ],
 "metadata": {
  "kernelspec": {
   "display_name": "Python 3 (ipykernel)",
   "language": "python",
   "name": "python3"
  },
  "language_info": {
   "codemirror_mode": {
    "name": "ipython",
    "version": 3
   },
   "file_extension": ".py",
   "mimetype": "text/x-python",
   "name": "python",
   "nbconvert_exporter": "python",
   "pygments_lexer": "ipython3",
   "version": "3.11.7"
  },
  "widgets": {
   "application/vnd.jupyter.widget-state+json": {
    "state": {},
    "version_major": 2,
    "version_minor": 0
   }
  }
 },
 "nbformat": 4,
 "nbformat_minor": 5
}
