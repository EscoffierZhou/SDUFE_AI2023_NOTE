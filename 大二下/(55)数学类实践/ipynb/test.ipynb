{
 "cells": [
  {
   "metadata": {},
   "cell_type": "markdown",
   "source": "",
   "id": "b38f86e297ea0bf1"
  },
  {
   "cell_type": "code",
   "id": "initial_id",
   "metadata": {
    "collapsed": true,
    "ExecuteTime": {
     "end_time": "2025-06-06T01:55:22.084715Z",
     "start_time": "2025-06-06T01:55:18.644668Z"
    }
   },
   "source": [
    "import numpy as np\n",
    "\n",
    "from scipy.integrate import solve_ivp\n",
    "from torch.ao.quantization.backend_config.x86 import x86_default_dynamic_float16_dtype_config\n",
    "\n",
    "\n",
    "def func(t,z):\n",
    "    x,y=z\n",
    "    dxdt=-x**2-y\n",
    "    dydt=x-y**2\n",
    "    return[dxdt,dydt]\n",
    "x0=1.0\n",
    "\n",
    "y0=0.5\n",
    "\n",
    "z0=[x0,y0]\n",
    "\n",
    "t_s=(0,5)\n",
    "t_e=np.linspace(t_s[0],t_s[1])\n",
    "\n",
    "solve=solve_ivp(func,t_s,z0)\n",
    "\n",
    "print(solve.t)\n",
    "\n",
    "print(solve.y[0])\n",
    "\n",
    "print(solve.y[1])"
   ],
   "outputs": [
    {
     "name": "stdout",
     "output_type": "stream",
     "text": [
      "[0.         0.07761138 0.58849224 1.16384792 1.92585635 2.82694117\n",
      " 3.38593415 3.94492713 4.16653214 4.38813715 4.43703468 4.48593222\n",
      " 4.51702035 4.54262382 4.55025626 4.5578887  4.56090541 4.56392212\n",
      " 4.56487931 4.56583651 4.56625028 4.56666405 4.56677947 4.56689489\n",
      " 4.56695371 4.56701252 4.56702522 4.56703791 4.56704654 4.56705356\n",
      " 4.56705567 4.56705778 4.5670586  4.56705942 4.56705969 4.56705996\n",
      " 4.56706007 4.56706018 4.56706021 4.56706024 4.56706026 4.56706028\n",
      " 4.56706028 4.56706028 4.56706029 4.56706029 4.56706029 4.56706029\n",
      " 4.56706029 4.56706029 4.56706029 4.56706029 4.56706029 4.56706029\n",
      " 4.56706029 4.56706029 4.56706029 4.56706029 4.56706029 4.56706029\n",
      " 4.56706029 4.56706029 4.56706029 4.56706029 4.56706029 4.56706029\n",
      " 4.56706029 4.56706029 4.56706029 4.56706029]\n",
      "[ 1.00000000e+00  8.89875657e-01  3.67926929e-01 -6.26381802e-03\n",
      " -3.53522341e-01 -6.31101243e-01 -6.27560544e-01 -1.37661285e-01\n",
      "  3.11901121e-01  1.03684238e+00  1.29364098e+00  1.66290028e+00\n",
      "  2.04225868e+00  2.62416768e+00  2.94008477e+00  3.46857871e+00\n",
      "  3.82755765e+00  4.45037392e+00  4.79387285e+00  5.34735455e+00\n",
      "  5.74731726e+00  6.44723827e+00  6.78649485e+00  7.31014703e+00\n",
      "  7.74624324e+00  8.54512467e+00  8.85308002e+00  9.30138061e+00\n",
      "  9.78746292e+00  1.05020931e+01  1.08781632e+01  1.14884232e+01\n",
      "  1.18828859e+01  1.25440251e+01  1.29129848e+01  1.35041082e+01\n",
      "  1.39088398e+01  1.45999441e+01  1.49547702e+01  1.55098260e+01\n",
      "  1.59342881e+01  1.66868690e+01  1.70148821e+01  1.75062634e+01\n",
      "  1.79674743e+01  1.87095105e+01  1.90565846e+01  1.95926245e+01\n",
      "  2.00277886e+01  2.08159261e+01  2.11300290e+01  2.15905397e+01\n",
      "  2.20702952e+01  2.27937225e+01  2.31608519e+01  2.37471417e+01\n",
      "  2.41544713e+01  2.48533535e+01  2.52045829e+01  2.57507469e+01\n",
      "  2.61806652e+01  2.69511638e+01  2.72714481e+01  2.77455058e+01\n",
      "  2.82146670e+01  2.89499492e+01  2.93046481e+01  2.98593777e+01\n",
      "  3.02703649e+01  3.09803937e+01]\n",
      "[ 5.00000000e-01  5.51694566e-01  6.58393174e-01  5.41016788e-01\n",
      "  2.64024199e-01 -2.10878617e-01 -6.89120969e-01 -1.64656219e+00\n",
      " -2.57808654e+00 -5.66630690e+00 -7.75780223e+00 -1.23775224e+01\n",
      " -2.00207258e+01 -4.09448197e+01 -5.95246052e+01 -1.09038991e+02\n",
      " -1.62469476e+02 -3.18651633e+02 -4.58490537e+02 -8.17091861e+02\n",
      " -1.23443696e+03 -2.52365156e+03 -3.56083472e+03 -6.04550622e+03\n",
      " -9.38123824e+03 -2.09352946e+04 -2.85125996e+04 -4.46863375e+04\n",
      " -7.27120111e+04 -1.48686290e+05 -2.16618553e+05 -3.98867421e+05\n",
      " -5.91812329e+05 -1.14644908e+06 -1.65808324e+06 -2.99456833e+06\n",
      " -4.48858563e+06 -8.95887217e+06 -1.27747290e+07 -2.22535213e+07\n",
      " -3.40199980e+07 -7.22060313e+07 -1.00236413e+08 -1.63839500e+08\n",
      " -2.59842600e+08 -5.45717614e+08 -7.72141577e+08 -1.31972274e+09\n",
      " -2.03921868e+09 -4.48480427e+09 -6.13980326e+09 -9.73065019e+09\n",
      " -1.57212129e+10 -3.24086115e+10 -4.67840986e+10 -8.40826920e+10\n",
      " -1.26357485e+11 -2.54163742e+11 -3.61116167e+11 -6.23489506e+11\n",
      " -9.58367952e+11 -2.07086478e+12 -2.85264026e+12 -4.58265311e+12\n",
      " -7.32589546e+12 -1.52821483e+13 -2.17883525e+13 -3.79425413e+13\n",
      " -5.72280642e+13 -1.16402809e+14]\n"
     ]
    }
   ],
   "execution_count": 1
  },
  {
   "metadata": {
    "ExecuteTime": {
     "end_time": "2025-06-13T01:41:32.597730Z",
     "start_time": "2025-06-13T01:41:32.525456Z"
    }
   },
   "cell_type": "code",
   "source": [
    "from scipy.optimize import linprog\n",
    "\n",
    "formula = [-5, -4, -6] \n",
    "A_ub = [[1, -1, 1],\n",
    "        [3, 2, 4]] \n",
    "b_ub = [20, 42] \n",
    "A_eq = [] \n",
    "b_eq = [] \n",
    "A_ub.append([-3, -2, 0])\n",
    "b_ub.append([-30])\n",
    "x_bounds = [(0, None), (0, None), (0, None)] #\n",
    "res = linprog(formula, A_ub=A_ub, b_ub=b_ub, A_eq=A_eq, b_eq=b_eq, bounds=x_bounds, method='highs')\n"
   ],
   "id": "a790b89c909ec8bc",
   "outputs": [
    {
     "ename": "TypeError",
     "evalue": "Invalid input for linprog: b_ub must be a 1-D array of numerical values, each representing the upper bound of an inequality constraint (row) in A_ub",
     "output_type": "error",
     "traceback": [
      "\u001B[1;31m---------------------------------------------------------------------------\u001B[0m",
      "\u001B[1;31mValueError\u001B[0m                                Traceback (most recent call last)",
      "File \u001B[1;32mF:\\Anaconda\\envs\\pytorch\\Lib\\site-packages\\scipy\\optimize\\_linprog_util.py:331\u001B[0m, in \u001B[0;36m_clean_inputs\u001B[1;34m(lp)\u001B[0m\n\u001B[0;32m    330\u001B[0m \u001B[38;5;28;01mtry\u001B[39;00m:\n\u001B[1;32m--> 331\u001B[0m     b_ub \u001B[38;5;241m=\u001B[39m \u001B[43m_format_b_constraints\u001B[49m\u001B[43m(\u001B[49m\u001B[43mb_ub\u001B[49m\u001B[43m)\u001B[49m\n\u001B[0;32m    332\u001B[0m \u001B[38;5;28;01mexcept\u001B[39;00m \u001B[38;5;167;01mValueError\u001B[39;00m \u001B[38;5;28;01mas\u001B[39;00m e:\n",
      "File \u001B[1;32mF:\\Anaconda\\envs\\pytorch\\Lib\\site-packages\\scipy\\optimize\\_linprog_util.py:209\u001B[0m, in \u001B[0;36m_format_b_constraints\u001B[1;34m(b)\u001B[0m\n\u001B[0;32m    208\u001B[0m     \u001B[38;5;28;01mreturn\u001B[39;00m np\u001B[38;5;241m.\u001B[39marray([], dtype\u001B[38;5;241m=\u001B[39m\u001B[38;5;28mfloat\u001B[39m)\n\u001B[1;32m--> 209\u001B[0m b \u001B[38;5;241m=\u001B[39m \u001B[43mnp\u001B[49m\u001B[38;5;241;43m.\u001B[39;49m\u001B[43marray\u001B[49m\u001B[43m(\u001B[49m\u001B[43mb\u001B[49m\u001B[43m,\u001B[49m\u001B[43m \u001B[49m\u001B[43mdtype\u001B[49m\u001B[38;5;241;43m=\u001B[39;49m\u001B[38;5;28;43mfloat\u001B[39;49m\u001B[43m,\u001B[49m\u001B[43m \u001B[49m\u001B[43mcopy\u001B[49m\u001B[38;5;241;43m=\u001B[39;49m\u001B[38;5;28;43;01mTrue\u001B[39;49;00m\u001B[43m)\u001B[49m\u001B[38;5;241m.\u001B[39msqueeze()\n\u001B[0;32m    210\u001B[0m \u001B[38;5;28;01mreturn\u001B[39;00m b \u001B[38;5;28;01mif\u001B[39;00m b\u001B[38;5;241m.\u001B[39msize \u001B[38;5;241m!=\u001B[39m \u001B[38;5;241m1\u001B[39m \u001B[38;5;28;01melse\u001B[39;00m b\u001B[38;5;241m.\u001B[39mreshape(\u001B[38;5;241m-\u001B[39m\u001B[38;5;241m1\u001B[39m)\n",
      "\u001B[1;31mValueError\u001B[0m: setting an array element with a sequence. The requested array has an inhomogeneous shape after 1 dimensions. The detected shape was (3,) + inhomogeneous part.",
      "\nThe above exception was the direct cause of the following exception:\n",
      "\u001B[1;31mTypeError\u001B[0m                                 Traceback (most recent call last)",
      "Cell \u001B[1;32mIn[2], line 12\u001B[0m\n\u001B[0;32m     10\u001B[0m b_ub\u001B[38;5;241m.\u001B[39mappend([\u001B[38;5;241m-\u001B[39m\u001B[38;5;241m30\u001B[39m])\n\u001B[0;32m     11\u001B[0m x_bounds \u001B[38;5;241m=\u001B[39m [(\u001B[38;5;241m0\u001B[39m, \u001B[38;5;28;01mNone\u001B[39;00m), (\u001B[38;5;241m0\u001B[39m, \u001B[38;5;28;01mNone\u001B[39;00m), (\u001B[38;5;241m0\u001B[39m, \u001B[38;5;28;01mNone\u001B[39;00m)] \u001B[38;5;66;03m#\u001B[39;00m\n\u001B[1;32m---> 12\u001B[0m res \u001B[38;5;241m=\u001B[39m \u001B[43mlinprog\u001B[49m\u001B[43m(\u001B[49m\u001B[43mformula\u001B[49m\u001B[43m,\u001B[49m\u001B[43m \u001B[49m\u001B[43mA_ub\u001B[49m\u001B[38;5;241;43m=\u001B[39;49m\u001B[43mA_ub\u001B[49m\u001B[43m,\u001B[49m\u001B[43m \u001B[49m\u001B[43mb_ub\u001B[49m\u001B[38;5;241;43m=\u001B[39;49m\u001B[43mb_ub\u001B[49m\u001B[43m,\u001B[49m\u001B[43m \u001B[49m\u001B[43mA_eq\u001B[49m\u001B[38;5;241;43m=\u001B[39;49m\u001B[43mA_eq\u001B[49m\u001B[43m,\u001B[49m\u001B[43m \u001B[49m\u001B[43mb_eq\u001B[49m\u001B[38;5;241;43m=\u001B[39;49m\u001B[43mb_eq\u001B[49m\u001B[43m,\u001B[49m\u001B[43m \u001B[49m\u001B[43mbounds\u001B[49m\u001B[38;5;241;43m=\u001B[39;49m\u001B[43mx_bounds\u001B[49m\u001B[43m,\u001B[49m\u001B[43m \u001B[49m\u001B[43mmethod\u001B[49m\u001B[38;5;241;43m=\u001B[39;49m\u001B[38;5;124;43m'\u001B[39;49m\u001B[38;5;124;43mhighs\u001B[39;49m\u001B[38;5;124;43m'\u001B[39;49m\u001B[43m)\u001B[49m\n",
      "File \u001B[1;32mF:\\Anaconda\\envs\\pytorch\\Lib\\site-packages\\scipy\\optimize\\_linprog.py:630\u001B[0m, in \u001B[0;36mlinprog\u001B[1;34m(c, A_ub, b_ub, A_eq, b_eq, bounds, method, callback, options, x0, integrality)\u001B[0m\n\u001B[0;32m    627\u001B[0m     integrality \u001B[38;5;241m=\u001B[39m np\u001B[38;5;241m.\u001B[39mbroadcast_to(integrality, np\u001B[38;5;241m.\u001B[39mshape(c))\n\u001B[0;32m    629\u001B[0m lp \u001B[38;5;241m=\u001B[39m _LPProblem(c, A_ub, b_ub, A_eq, b_eq, bounds, x0, integrality)\n\u001B[1;32m--> 630\u001B[0m lp, solver_options \u001B[38;5;241m=\u001B[39m \u001B[43m_parse_linprog\u001B[49m\u001B[43m(\u001B[49m\u001B[43mlp\u001B[49m\u001B[43m,\u001B[49m\u001B[43m \u001B[49m\u001B[43moptions\u001B[49m\u001B[43m,\u001B[49m\u001B[43m \u001B[49m\u001B[43mmeth\u001B[49m\u001B[43m)\u001B[49m\n\u001B[0;32m    631\u001B[0m tol \u001B[38;5;241m=\u001B[39m solver_options\u001B[38;5;241m.\u001B[39mget(\u001B[38;5;124m'\u001B[39m\u001B[38;5;124mtol\u001B[39m\u001B[38;5;124m'\u001B[39m, \u001B[38;5;241m1e-9\u001B[39m)\n\u001B[0;32m    633\u001B[0m \u001B[38;5;66;03m# Give unmodified problem to HiGHS\u001B[39;00m\n",
      "File \u001B[1;32mF:\\Anaconda\\envs\\pytorch\\Lib\\site-packages\\scipy\\optimize\\_linprog_util.py:1026\u001B[0m, in \u001B[0;36m_parse_linprog\u001B[1;34m(lp, options, meth)\u001B[0m\n\u001B[0;32m   1023\u001B[0m solver_options, A_ub, A_eq \u001B[38;5;241m=\u001B[39m _check_sparse_inputs(solver_options, meth,\n\u001B[0;32m   1024\u001B[0m                                                   lp\u001B[38;5;241m.\u001B[39mA_ub, lp\u001B[38;5;241m.\u001B[39mA_eq)\n\u001B[0;32m   1025\u001B[0m \u001B[38;5;66;03m# Convert lists to numpy arrays, etc...\u001B[39;00m\n\u001B[1;32m-> 1026\u001B[0m lp \u001B[38;5;241m=\u001B[39m \u001B[43m_clean_inputs\u001B[49m\u001B[43m(\u001B[49m\u001B[43mlp\u001B[49m\u001B[38;5;241;43m.\u001B[39;49m\u001B[43m_replace\u001B[49m\u001B[43m(\u001B[49m\u001B[43mA_ub\u001B[49m\u001B[38;5;241;43m=\u001B[39;49m\u001B[43mA_ub\u001B[49m\u001B[43m,\u001B[49m\u001B[43m \u001B[49m\u001B[43mA_eq\u001B[49m\u001B[38;5;241;43m=\u001B[39;49m\u001B[43mA_eq\u001B[49m\u001B[43m)\u001B[49m\u001B[43m)\u001B[49m\n\u001B[0;32m   1027\u001B[0m \u001B[38;5;28;01mreturn\u001B[39;00m lp, solver_options\n",
      "File \u001B[1;32mF:\\Anaconda\\envs\\pytorch\\Lib\\site-packages\\scipy\\optimize\\_linprog_util.py:333\u001B[0m, in \u001B[0;36m_clean_inputs\u001B[1;34m(lp)\u001B[0m\n\u001B[0;32m    331\u001B[0m     b_ub \u001B[38;5;241m=\u001B[39m _format_b_constraints(b_ub)\n\u001B[0;32m    332\u001B[0m \u001B[38;5;28;01mexcept\u001B[39;00m \u001B[38;5;167;01mValueError\u001B[39;00m \u001B[38;5;28;01mas\u001B[39;00m e:\n\u001B[1;32m--> 333\u001B[0m     \u001B[38;5;28;01mraise\u001B[39;00m \u001B[38;5;167;01mTypeError\u001B[39;00m(\n\u001B[0;32m    334\u001B[0m         \u001B[38;5;124m\"\u001B[39m\u001B[38;5;124mInvalid input for linprog: b_ub must be a 1-D array of \u001B[39m\u001B[38;5;124m\"\u001B[39m\n\u001B[0;32m    335\u001B[0m         \u001B[38;5;124m\"\u001B[39m\u001B[38;5;124mnumerical values, each representing the upper bound of an \u001B[39m\u001B[38;5;124m\"\u001B[39m\n\u001B[0;32m    336\u001B[0m         \u001B[38;5;124m\"\u001B[39m\u001B[38;5;124minequality constraint (row) in A_ub\u001B[39m\u001B[38;5;124m\"\u001B[39m) \u001B[38;5;28;01mfrom\u001B[39;00m\u001B[38;5;250m \u001B[39m\u001B[38;5;21;01me\u001B[39;00m\n\u001B[0;32m    337\u001B[0m \u001B[38;5;28;01melse\u001B[39;00m:\n\u001B[0;32m    338\u001B[0m     \u001B[38;5;28;01mif\u001B[39;00m b_ub\u001B[38;5;241m.\u001B[39mshape \u001B[38;5;241m!=\u001B[39m (n_ub,):\n",
      "\u001B[1;31mTypeError\u001B[0m: Invalid input for linprog: b_ub must be a 1-D array of numerical values, each representing the upper bound of an inequality constraint (row) in A_ub"
     ]
    }
   ],
   "execution_count": 2
  },
  {
   "metadata": {
    "ExecuteTime": {
     "end_time": "2025-06-13T01:16:25.466990Z",
     "start_time": "2025-06-13T01:16:25.426475Z"
    }
   },
   "cell_type": "code",
   "source": [
    "from sympy import *\n",
    "x = Symbol('x')\n",
    "y = Symbol('y')\n",
    "result = integrate(y * exp(x), (y, 1, x), (x, 1, 2))\n",
    "print(result)"
   ],
   "id": "63063081b6202b03",
   "outputs": [
    {
     "name": "stdout",
     "output_type": "stream",
     "text": [
      "exp(2)/2\n"
     ]
    }
   ],
   "execution_count": 5
  },
  {
   "metadata": {},
   "cell_type": "code",
   "outputs": [],
   "execution_count": null,
   "source": "",
   "id": "1728feacbbe65b74"
  },
  {
   "metadata": {},
   "cell_type": "markdown",
   "source": "",
   "id": "9218550fc8b01a2"
  },
  {
   "metadata": {
    "ExecuteTime": {
     "end_time": "2025-06-13T01:53:17.817262Z",
     "start_time": "2025-06-13T01:53:17.813178Z"
    }
   },
   "cell_type": "code",
   "source": [
    "from scipy import *\n",
    "import numpy as np\n",
    "formula = [-5, -4, -6]\n",
    "A_ub = [\n",
    "    [1, -1, 1],\n",
    "    [3, 2, 4]\n",
    "]\n",
    "b_ub = [20, 42]\n",
    "A_lb = [\n",
    "    [-3, -2, 0]\n",
    "]\n",
    "b_lb = [-30]\n",
    "bounds = [(0, None), (0, None), (0, None)]\n",
    "res = linprog(formula, A_ub=A_ub + A_lb, b_ub=b_ub + b_lb, bounds=bounds, method='highs')\n",
    "print(res.x)\n",
    "print(-res.fun)\n"
   ],
   "id": "37ce71775a9fb8f9",
   "outputs": [
    {
     "name": "stdout",
     "output_type": "stream",
     "text": [
      "[ 0. 21.  0.]\n",
      "84.0\n"
     ]
    }
   ],
   "execution_count": 8
  },
  {
   "metadata": {},
   "cell_type": "code",
   "outputs": [],
   "execution_count": null,
   "source": "",
   "id": "e1704401dac373ca"
  }
 ],
 "metadata": {
  "kernelspec": {
   "display_name": "Python 3",
   "language": "python",
   "name": "python3"
  },
  "language_info": {
   "codemirror_mode": {
    "name": "ipython",
    "version": 2
   },
   "file_extension": ".py",
   "mimetype": "text/x-python",
   "name": "python",
   "nbconvert_exporter": "python",
   "pygments_lexer": "ipython2",
   "version": "2.7.6"
  }
 },
 "nbformat": 4,
 "nbformat_minor": 5
}
