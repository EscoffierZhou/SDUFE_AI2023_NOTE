{
 "cells": [
  {
   "cell_type": "markdown",
   "metadata": {
    "slideshow": {
     "slide_type": "-"
    }
   },
   "source": [
    "***\n",
    "## **1. sympy基础**\n",
    "- sympy 的语法与python保持一致, 例如3x不能表达3与x相乘，二是写为3*x\n",
    "- sympy 是开源免费的，体积小，不需要单独学习一门新的设计语言\n",
    "- sympy 封装为python的一个库，引用十分方便\n",
    "   - import sympy as sp\n",
    "   - from sympy import *\n",
    "   - from sympy import\n",
    "\n",
    "========================================\n",
    "\n",
    "1.单变量`symbol`的定义\n",
    ">`x = symbols('x')`\n",
    ">\n",
    "2.多变量`symbol`的定义\n",
    ">`x,y,z = symbols(x y z)`每个对象都有不同的变量名\n",
    ">\n",
    ">`x,y,z = symbols(x x z)`对象可能有相同的变量名\n",
    ">\n",
    "3.构造数学表达式\n",
    ">定义完变量后->直接将一个公式赋给一个变量\n",
    ">\n",
    "4.将变量代入数学表达式`subs()`\n",
    ">定义完变量后->定义完表达式后->`am = func.sub(symbols,value)`\n",
    ">\n",
    ">**注意:这里可以代入`多个值`,`字典(常用)`,'列表(不常用)'**\n",
    ">\n",
    ">============================\n",
    ">\n",
    ">**1.代入多个值:结果存在未知数(注意!!不会修改原始值,所以只能代入单变量,重新声明会换成另一个)**\n",
    ">>```python\n",
    ">>from sympy import symbols, sin, cos\n",
    ">>x, y = symbols('x y')\n",
    ">>expr = sin(x) + cos(y)\n",
    ">>result = expr.subs(y, 0.5)\n",
    ">>result = expr.subs(x, 0.5) #即使声明了两次\n",
    ">># cos(y) + 0.479425538604203 #结果只会和单变量有关\n",
    ">>```\n",
    ">\n",
    ">**2.代入字典:`key-value`体系很好**\n",
    ">>```python\n",
    ">>from sympy import symbols, sin, cos\n",
    ">>x, y = symbols('x y')\n",
    ">>expr = sin(x) + cos(y)\n",
    ">>substitution_dict = {x: 0.5, y: 1}\n",
    ">>result_multiple = expr.subs(substitution_dict)\n",
    ">># 结果 0.390476753017442\n",
    ">>```\n",
    ">\n",
    ">**3.代入列表(人为对齐/元组对齐)**\n",
    ">>```python\n",
    ">>from sympy import symbols, sin, cos\n",
    ">>x, y, z = symbols('x y z')\n",
    ">>expr = x**2 + y + z\n",
    ">>symbols_list = [x, y, z]\n",
    ">>values_list = [2, 3, 4]\n",
    ">>result_list = expr.subs([(x, 2), (y, 3), (z, 4)])\n",
    ">>result_list = expr.subs(symbols_list, values_list)\n",
    ">># 结果 11\n",
    ">>```\n",
    ">\n",
    ">\n",
    ">=====================================================\n",
    ">\n",
    "5.(一次性操作)将修改数学表达式变量`subs`\n",
    ">```python\n",
    ">expr = cos(x) + 1\n",
    ">expr.subs(x,y)\n",
    "># cos(y)+1\n",
    ">print(expr)\n",
    "># 注意这里返回原式cos(x)+1.因为一次性操作\n",
    ">```\n",
    ">\n",
    "6.判断相同`func1.equals(func2)`\n",
    ">**sympy没有重载'=',而是使用了`equal()`**"
   ]
  },
  {
   "cell_type": "code",
   "execution_count": 1,
   "metadata": {
    "slideshow": {
     "slide_type": "-"
    }
   },
   "outputs": [
    {
     "ename": "NameError",
     "evalue": "name 'x' is not defined",
     "output_type": "error",
     "traceback": [
      "\u001b[1;31m---------------------------------------------------------------------------\u001b[0m",
      "\u001b[1;31mNameError\u001b[0m                                 Traceback (most recent call last)",
      "Cell \u001b[1;32mIn[1], line 2\u001b[0m\n\u001b[0;32m      1\u001b[0m \u001b[38;5;28;01mfrom\u001b[39;00m \u001b[38;5;21;01msympy\u001b[39;00m \u001b[38;5;28;01mimport\u001b[39;00m \u001b[38;5;241m*\u001b[39m\n\u001b[1;32m----> 2\u001b[0m \u001b[43mx\u001b[49m \u001b[38;5;241m+\u001b[39m \u001b[38;5;241m1\u001b[39m\n",
      "\u001b[1;31mNameError\u001b[0m: name 'x' is not defined"
     ]
    }
   ],
   "source": [
    "from sympy import *\n",
    "x + 1"
   ]
  },
  {
   "cell_type": "markdown",
   "metadata": {
    "slideshow": {
     "slide_type": "-"
    }
   },
   "source": [
    "这是因为python中如果不对一个变量进行定义是没有办法使用的。在sympy中也是一样，如果要使用一个符号x，必须要使用函数赋值"
   ]
  },
  {
   "cell_type": "code",
   "execution_count": 2,
   "metadata": {
    "scrolled": true
   },
   "outputs": [
    {
     "data": {
      "text/latex": [
       "$\\displaystyle x + 1$"
      ],
      "text/plain": [
       "x + 1"
      ]
     },
     "execution_count": 2,
     "metadata": {},
     "output_type": "execute_result"
    }
   ],
   "source": [
    "from sympy import *\n",
    "x = symbols('x')  #通过面对对象的方式声明对象\n",
    "x+1 # 返回一个表达式对象"
   ]
  },
  {
   "cell_type": "markdown",
   "metadata": {
    "slideshow": {
     "slide_type": "slide"
    }
   },
   "source": [
    "其中symbol()函数用于声明进行运算的符号，参数为string，并且使用空格隔开，比如"
   ]
  },
  {
   "cell_type": "code",
   "execution_count": 3,
   "metadata": {},
   "outputs": [
    {
     "name": "stdout",
     "output_type": "stream",
     "text": [
      "x y z\n"
     ]
    }
   ],
   "source": [
    "# 通过空格进行对象的生成\n",
    "x, y, z = symbols('x y z')\n",
    "print(x,y,z)"
   ]
  },
  {
   "cell_type": "markdown",
   "metadata": {},
   "source": [
    "此处请注意 python 中的变量x和sympy的符号x是不同的，sympy中的符号可以赋予给python中不同的变量名，例如"
   ]
  },
  {
   "cell_type": "code",
   "execution_count": 4,
   "metadata": {},
   "outputs": [
    {
     "name": "stdout",
     "output_type": "stream",
     "text": [
      "x z z\n"
     ]
    }
   ],
   "source": [
    "# 可以使用多个变量表示同一个对象(一个用,一个原地记录)\n",
    "x, y, z = symbols('x z z')\n",
    "print(x,y,z)"
   ]
  },
  {
   "cell_type": "markdown",
   "metadata": {
    "slideshow": {
     "slide_type": "-"
    }
   },
   "source": [
    "基于sympy中的符号，我们可以构造数学中一般的数学表达式，例如"
   ]
  },
  {
   "cell_type": "code",
   "execution_count": 3,
   "metadata": {
    "slideshow": {
     "slide_type": "slide"
    }
   },
   "outputs": [
    {
     "name": "stdout",
     "output_type": "stream",
     "text": [
      "x + 1\n"
     ]
    }
   ],
   "source": [
    "x = symbols('x')\n",
    "exp = x + 1 #变量指向表达式,输出表达式\n",
    "print(exp)"
   ]
  },
  {
   "cell_type": "markdown",
   "metadata": {
    "slideshow": {
     "slide_type": "-"
    }
   },
   "source": [
    "如果想把某个具体的值代入到某个数学表达式，应该如何做呢？"
   ]
  },
  {
   "cell_type": "code",
   "execution_count": 19,
   "metadata": {},
   "outputs": [
    {
     "name": "stdout",
     "output_type": "stream",
     "text": [
      "2\n",
      "x + 1\n",
      "3\n"
     ]
    }
   ],
   "source": [
    "# 并没有代入表达式\n",
    "x = symbols('x')\n",
    "\n",
    "expr = x + 1\n",
    "x = 2\n",
    "print(x)\n",
    "print(expr)\n",
    "\n",
    "# 通过subs代入表达式\n",
    "x = symbols('x') #这里必须实时的创建对象?\n",
    "a = expr.subs(x,2)\n",
    "print(a)"
   ]
  },
  {
   "cell_type": "markdown",
   "metadata": {
    "slideshow": {
     "slide_type": "-"
    }
   },
   "source": [
    "在此处expr已经成为数学表达式，而x=2只是赋予变量x为2，并没有改写表达式的内容，因此无法实现带入功能。正确方式应当是使用subs函数进行符号带入："
   ]
  },
  {
   "cell_type": "code",
   "execution_count": 7,
   "metadata": {},
   "outputs": [
    {
     "name": "stdout",
     "output_type": "stream",
     "text": [
      "3\n"
     ]
    }
   ],
   "source": [
    "x = symbols('x')\n",
    "expr = x + 1\n",
    "a = expr.subs(x,2)\n",
    "print(a)"
   ]
  },
  {
   "cell_type": "markdown",
   "metadata": {
    "slideshow": {
     "slide_type": "slide"
    }
   },
   "source": [
    "python中的=号属于强内置操作符，因此sympy并没有尝试去改写，而是引入了==作为数学表达式中的等于符号，例如："
   ]
  },
  {
   "cell_type": "code",
   "execution_count": 8,
   "metadata": {},
   "outputs": [
    {
     "name": "stdout",
     "output_type": "stream",
     "text": [
      "False\n",
      "False\n",
      "True\n"
     ]
    }
   ],
   "source": [
    "x = symbols('x')\n",
    "print(x + 1 == 4)\n",
    "a = (x+1)**2\n",
    "b = x**2 + 2*x + 1\n",
    "print(a == b)\n",
    "\n",
    "\n",
    "# 判断代数意义上的相等需要使用equals\n",
    "print(a.equals(b))"
   ]
  },
  {
   "cell_type": "markdown",
   "metadata": {
    "slideshow": {
     "slide_type": "slide"
    }
   },
   "source": [
    "***\n",
    "## 2. 基础操作\n",
    "\n",
    "======================================\n",
    "\n",
    "1.字符串转换为数学表达式`expr = sympify(str)`\n",
    "\n",
    "2.估计数学表达式的值`expr.evalf()`\n",
    ">`expr.evalf(chop=True))`消除浮点误差\n",
    "\n",
    "\n",
    "\n",
    "======================================"
   ]
  },
  {
   "cell_type": "markdown",
   "metadata": {
    "slideshow": {
     "slide_type": "-"
    }
   },
   "source": [
    "2.1表达式带入（替换）\n",
    "用于数学表达式中某些变量符号的替换\n",
    "- 可以使用数字替换符号\n",
    "- 可以使用另外一个表达式替换符号\n",
    "- 可以同时对几个符号进行替换"
   ]
  },
  {
   "cell_type": "code",
   "execution_count": 9,
   "metadata": {
    "slideshow": {
     "slide_type": "slide"
    }
   },
   "outputs": [
    {
     "data": {
      "text/latex": [
       "$\\displaystyle 2$"
      ],
      "text/plain": [
       "2"
      ]
     },
     "execution_count": 9,
     "metadata": {},
     "output_type": "execute_result"
    }
   ],
   "source": [
    "from sympy import *\n",
    "x, y, z = symbols(\"x y z\")\n",
    "expr = cos(x) + 1\n",
    "# 计算实值\n",
    "expr.subs(x,0)"
   ]
  },
  {
   "cell_type": "code",
   "execution_count": 10,
   "metadata": {},
   "outputs": [
    {
     "data": {
      "text/latex": [
       "$\\displaystyle \\cos{\\left(y \\right)} + 1$"
      ],
      "text/plain": [
       "cos(y) + 1"
      ]
     },
     "execution_count": 10,
     "metadata": {},
     "output_type": "execute_result"
    }
   ],
   "source": [
    "expr = cos(x) + 1\n",
    "# 替换现有对象\n",
    "expr.subs(x,y)"
   ]
  },
  {
   "cell_type": "code",
   "execution_count": 11,
   "metadata": {},
   "outputs": [
    {
     "data": {
      "text/latex": [
       "$\\displaystyle 40$"
      ],
      "text/plain": [
       "40"
      ]
     },
     "execution_count": 11,
     "metadata": {},
     "output_type": "execute_result"
    }
   ],
   "source": [
    "expr = x**3 + 4*x*y - z\n",
    "\n",
    "# 注意subs的list表达式\n",
    "expr.subs([(x, 2), (y, 4), (z, 0)])"
   ]
  },
  {
   "cell_type": "markdown",
   "metadata": {
    "slideshow": {
     "slide_type": "slide"
    }
   },
   "source": [
    "===========================================================================\n",
    "\n",
    "使用subs()进行符号替换时，返回的是一个新的数学表达式，原符号、原表达式都不会产生变化，例如\n",
    "\n",
    "==========================================================================="
   ]
  },
  {
   "cell_type": "code",
   "execution_count": 12,
   "metadata": {},
   "outputs": [
    {
     "name": "stdout",
     "output_type": "stream",
     "text": [
      "cos(x**y) + 1\n",
      "cos(x) + 1\n",
      "x\n"
     ]
    }
   ],
   "source": [
    "expr = cos(x) + 1\n",
    "print(expr.subs(x,x**y))\n",
    "print(expr)\n",
    "print(x)"
   ]
  },
  {
   "cell_type": "markdown",
   "metadata": {},
   "source": [
    "其缘由是sympy里的数学表达式expr是不可修改的，无法通过内置函数来修改他们。"
   ]
  },
  {
   "cell_type": "markdown",
   "metadata": {
    "slideshow": {
     "slide_type": "slide"
    }
   },
   "source": [
    "2.2将字符串转化为数学表达式\n",
    "\n",
    "使用sympify()函数可以方便的将字符串转为sympy数学表达式"
   ]
  },
  {
   "cell_type": "code",
   "execution_count": 13,
   "metadata": {},
   "outputs": [
    {
     "name": "stdout",
     "output_type": "stream",
     "text": [
      "x**2 + 3*x - 1/2\n",
      "19/2\n"
     ]
    }
   ],
   "source": [
    "from sympy import *\n",
    "x = symbols('x')\n",
    "str_expr = \"x**2 + 3*x - 1/2\"\n",
    "expr = sympify(str_expr)\n",
    "print(expr)\n",
    "print(expr.subs(x, 2))"
   ]
  },
  {
   "cell_type": "code",
   "execution_count": 14,
   "metadata": {},
   "outputs": [
    {
     "name": "stdout",
     "output_type": "stream",
     "text": [
      "2*sqrt(2)\n"
     ]
    }
   ],
   "source": [
    "expr=sqrt(8)\n",
    "print(expr)"
   ]
  },
  {
   "cell_type": "markdown",
   "metadata": {
    "slideshow": {
     "slide_type": "slide"
    }
   },
   "source": [
    "2.3 估计数字表达式的值\n",
    "\n",
    "使用evalf()将数字表达式转换为浮点值，并且可以通过参数控制精度"
   ]
  },
  {
   "cell_type": "code",
   "execution_count": 15,
   "metadata": {},
   "outputs": [
    {
     "name": "stdout",
     "output_type": "stream",
     "text": [
      "2*sqrt(2)\n",
      "2.82842712474619\n"
     ]
    }
   ],
   "source": [
    "expr = sqrt(8)\n",
    "print(expr)\n",
    "print(expr.evalf())"
   ]
  },
  {
   "cell_type": "code",
   "execution_count": 16,
   "metadata": {},
   "outputs": [
    {
     "data": {
      "text/latex": [
       "$\\displaystyle 3.14159265358979323846264338327950288419717$"
      ],
      "text/plain": [
       "3.14159265358979323846264338327950288419717"
      ]
     },
     "execution_count": 16,
     "metadata": {},
     "output_type": "execute_result"
    }
   ],
   "source": [
    "pi.evalf(42)"
   ]
  },
  {
   "cell_type": "markdown",
   "metadata": {
    "slideshow": {
     "slide_type": "slide"
    }
   },
   "source": [
    "有时由于计算机精度处理不够导致浮点错误，可以使用chop=True参数来消除误差，例如"
   ]
  },
  {
   "cell_type": "code",
   "execution_count": 17,
   "metadata": {},
   "outputs": [
    {
     "name": "stdout",
     "output_type": "stream",
     "text": [
      "-0.e-124\n",
      "0\n"
     ]
    }
   ],
   "source": [
    "one = cos(1)**2 + sin(1)**2\n",
    "print((one - 1).evalf())\n",
    "print((one - 1).evalf(chop=True))"
   ]
  },
  {
   "cell_type": "markdown",
   "metadata": {
    "slideshow": {
     "slide_type": "slide"
    }
   },
   "source": [
    "***\n",
    "## 3. 输出与打印\n",
    "\n",
    "=========================\n",
    "\n",
    "1.(自动化美化)`init_printing()`初始化打印器后,再输入公式就会出现内容\n",
    ">init_printing() 通过注册hook,拦截输出内容,然后使用格式化输出\n",
    ">\n",
    "2.切换输出格式\n",
    ">**1.`String`**\n",
    ">>`str(function)`\n",
    ">\n",
    ">**2.`latex`**\n",
    ">>`latex(function)`\n",
    ">\n",
    ">**3.`pprint`**\n",
    ">>`pprint(function)`\n",
    "\n",
    "\n",
    "============================"
   ]
  },
  {
   "cell_type": "markdown",
   "metadata": {
    "slideshow": {
     "slide_type": "slide"
    }
   },
   "source": [
    "3.1 输出器/打印器\n",
    "\n",
    "有下列几种常用的打印器：\n",
    "- str\n",
    "- srepr\n",
    "- ASCII pretty printer\n",
    "- Unicode pretty printer\n",
    "- LaTeX\n",
    "- MathML\n",
    "- Dot\n",
    "\n",
    "\n",
    "打印之前通常使用init_printing()函数来初始化打印器，其将自动选择环境下最优的打印器。在不同的交互界面将会产生不同的绘制过程。"
   ]
  },
  {
   "cell_type": "code",
   "execution_count": 6,
   "metadata": {},
   "outputs": [],
   "source": [
    "from sympy import *\n",
    "init_printing()"
   ]
  },
  {
   "cell_type": "code",
   "execution_count": 7,
   "metadata": {},
   "outputs": [
    {
     "data": {
      "image/png": "[encoded data removed]",
      "text/latex": [
       "$\\displaystyle \\int \\sqrt{\\frac{1}{x}}\\, dx$"
      ],
      "text/plain": [
       "⌠           \n",
       "⎮     ___   \n",
       "⎮    ╱ 1    \n",
       "⎮   ╱  ─  dx\n",
       "⎮ ╲╱   x    \n",
       "⌡           "
      ]
     },
     "execution_count": 7,
     "metadata": {},
     "output_type": "execute_result"
    }
   ],
   "source": [
    "x,y,z=symbols('x y z')\n",
    "Integral(sqrt(1/x),x)"
   ]
  },
  {
   "cell_type": "markdown",
   "metadata": {
    "slideshow": {
     "slide_type": "slide"
    }
   },
   "source": [
    "3.2 输出/打印函数"
   ]
  },
  {
   "cell_type": "markdown",
   "metadata": {},
   "source": [
    "使用不同的输出函数有不同的输出效果"
   ]
  },
  {
   "cell_type": "code",
   "execution_count": 20,
   "metadata": {},
   "outputs": [
    {
     "name": "stdout",
     "output_type": "stream",
     "text": [
      "Integral(sqrt(1/x), x)\n"
     ]
    }
   ],
   "source": [
    "from sympy import *\n",
    "x, y, z = symbols('x y z')\n",
    "print(str(Integral(sqrt(1/x), x)))"
   ]
  },
  {
   "cell_type": "code",
   "execution_count": 21,
   "metadata": {},
   "outputs": [
    {
     "name": "stdout",
     "output_type": "stream",
     "text": [
      "\\int \\sqrt{\\frac{1}{x}}\\, dx\n"
     ]
    }
   ],
   "source": [
    "print(latex(Integral(sqrt(1/x), x)))"
   ]
  },
  {
   "cell_type": "code",
   "execution_count": 8,
   "metadata": {
    "slideshow": {
     "slide_type": "slide"
    }
   },
   "outputs": [
    {
     "name": "stdout",
     "output_type": "stream",
     "text": [
      "  /          \n",
      " |           \n",
      " |     ___   \n",
      " |    / 1    \n",
      " |   /  -  dx\n",
      " | \\/   x    \n",
      " |           \n",
      "/            \n"
     ]
    }
   ],
   "source": [
    "pprint(Integral(sqrt(1/x), x), use_unicode=False)"
   ]
  },
  {
   "cell_type": "code",
   "execution_count": 23,
   "metadata": {},
   "outputs": [
    {
     "name": "stdout",
     "output_type": "stream",
     "text": [
      "⌠           \n",
      "⎮     ___   \n",
      "⎮    ╱ 1    \n",
      "⎮   ╱  ─  dx\n",
      "⎮ ╲╱   x    \n",
      "⌡           \n"
     ]
    }
   ],
   "source": [
    "pprint(Integral(sqrt(1/x), x), use_unicode=True)"
   ]
  },
  {
   "cell_type": "markdown",
   "metadata": {
    "slideshow": {
     "slide_type": "slide"
    }
   },
   "source": [
    "***\n",
    "## 4. 化简表达式\n",
    "\n",
    "====================================\n",
    "1.函数化简`simplify(function)`\n",
    ">某些表达式无法转换为直观意义上的最简式\n",
    ">\n",
    ">由于其属于遍历搜索，因此运行速度较慢\n",
    ">\n",
    "2.多项式有理式化简\n",
    ">`expand(function)`展开函数\n",
    ">\n",
    ">`factor(function)`因式分解\n",
    ">\n",
    ">`collect(function)`合并同类项\n",
    ">\n",
    ">`cancel(function)`化简有理分式\n",
    "\n",
    "===================================="
   ]
  },
  {
   "cell_type": "markdown",
   "metadata": {},
   "source": [
    "4.1 通用化简式simplify()\n",
    "\n",
    "sympy中有几十个用于化简数学表达式的函数，最常用的是simplify()函数，用于尝试将表达式参数化简为最简化的形式："
   ]
  },
  {
   "cell_type": "code",
   "execution_count": 24,
   "metadata": {},
   "outputs": [
    {
     "name": "stdout",
     "output_type": "stream",
     "text": [
      "1\n"
     ]
    }
   ],
   "source": [
    "print(simplify(sin(x)**2 + cos(x)**2))"
   ]
  },
  {
   "cell_type": "code",
   "execution_count": 25,
   "metadata": {},
   "outputs": [
    {
     "name": "stdout",
     "output_type": "stream",
     "text": [
      "x - 1\n"
     ]
    }
   ],
   "source": [
    "print(simplify((x**3 + x**2 - x - 1)/(x**2 + 2*x + 1)))"
   ]
  },
  {
   "cell_type": "code",
   "execution_count": 26,
   "metadata": {},
   "outputs": [
    {
     "name": "stdout",
     "output_type": "stream",
     "text": [
      "(x - 2)*(x - 1)\n"
     ]
    }
   ],
   "source": [
    "print(simplify(gamma(x)/gamma(x - 2)))"
   ]
  },
  {
   "cell_type": "markdown",
   "metadata": {
    "slideshow": {
     "slide_type": "slide"
    }
   },
   "source": [
    "simplify()函数的缺点\n",
    "- 某些表达式无法转换为直观意义上的最简式\n",
    "- 由于其属于遍历搜索，因此运行速度较慢"
   ]
  },
  {
   "cell_type": "code",
   "execution_count": 27,
   "metadata": {},
   "outputs": [
    {
     "name": "stdout",
     "output_type": "stream",
     "text": [
      "x**2 + 2*x + 1\n"
     ]
    }
   ],
   "source": [
    "print(simplify(x**2 + 2*x + 1))"
   ]
  },
  {
   "cell_type": "markdown",
   "metadata": {},
   "source": [
    "上述表达式的最简式应为$(x+1)^2$，然而simplify()判定$x+1$作为底要比$x$作为底更加复杂。但是纵使由以上缺点，simplify()依然是常用的表达式化简函数。"
   ]
  },
  {
   "cell_type": "markdown",
   "metadata": {
    "slideshow": {
     "slide_type": "slide"
    }
   },
   "source": [
    "4.2 多项式/有理式化简\n",
    "\n",
    "- expand() 是sympy里最常用的表达式展开函数"
   ]
  },
  {
   "cell_type": "code",
   "execution_count": 28,
   "metadata": {},
   "outputs": [
    {
     "data": {
      "image/png": "[encoded data removed]",
      "text/latex": [
       "$$x^{2} + 2 x + 1$$"
      ],
      "text/plain": [
       " 2          \n",
       "x  + 2⋅x + 1"
      ]
     },
     "execution_count": 28,
     "metadata": {},
     "output_type": "execute_result"
    }
   ],
   "source": [
    "expand((x + 1)**2)"
   ]
  },
  {
   "cell_type": "code",
   "execution_count": 29,
   "metadata": {},
   "outputs": [
    {
     "data": {
      "image/png": "[encoded data removed]",
      "text/latex": [
       "$$x^{2} - x - 6$$"
      ],
      "text/plain": [
       " 2        \n",
       "x  - x - 6"
      ]
     },
     "execution_count": 29,
     "metadata": {},
     "output_type": "execute_result"
    }
   ],
   "source": [
    "expand((x + 2)*(x - 3))"
   ]
  },
  {
   "cell_type": "markdown",
   "metadata": {
    "slideshow": {
     "slide_type": "slide"
    }
   },
   "source": [
    "- factor() 常用于多项式的化简，用于解决因式分解。通常和expand()函数相对立。"
   ]
  },
  {
   "cell_type": "code",
   "execution_count": 30,
   "metadata": {},
   "outputs": [
    {
     "data": {
      "image/png": "[encoded data removed]",
      "text/latex": [
       "$$\\left(x - 1\\right) \\left(x^{2} + 1\\right)$$"
      ],
      "text/plain": [
       "        ⎛ 2    ⎞\n",
       "(x - 1)⋅⎝x  + 1⎠"
      ]
     },
     "execution_count": 30,
     "metadata": {},
     "output_type": "execute_result"
    }
   ],
   "source": [
    "factor(x**3 - x**2 + x - 1)"
   ]
  },
  {
   "cell_type": "code",
   "execution_count": 31,
   "metadata": {},
   "outputs": [
    {
     "data": {
      "image/png": "[encoded data removed]",
      "text/latex": [
       "$$z \\left(x + 2 y\\right)^{2}$$"
      ],
      "text/plain": [
       "           2\n",
       "z⋅(x + 2⋅y) "
      ]
     },
     "execution_count": 31,
     "metadata": {},
     "output_type": "execute_result"
    }
   ],
   "source": [
    "factor(x**2*z + 4*x*y*z + 4*y**2*z)"
   ]
  },
  {
   "cell_type": "code",
   "execution_count": 32,
   "metadata": {},
   "outputs": [
    {
     "name": "stdout",
     "output_type": "stream",
     "text": [
      "sin(x)**2 + 2*sin(x)*cos(x) + cos(x)**2\n",
      "(sin(x) + cos(x))**2\n"
     ]
    }
   ],
   "source": [
    "print(expand((cos(x) + sin(x))**2))\n",
    "print(factor(cos(x)**2 + 2*cos(x)*sin(x) + sin(x)**2))"
   ]
  },
  {
   "cell_type": "markdown",
   "metadata": {
    "slideshow": {
     "slide_type": "slide"
    }
   },
   "source": [
    "- collect()函数用于合并同类项"
   ]
  },
  {
   "cell_type": "code",
   "execution_count": 33,
   "metadata": {},
   "outputs": [
    {
     "data": {
      "image/png": "[encoded data removed]",
      "text/latex": [
       "$$x^{3} + x^{2} \\left(- z + 2\\right) + x \\left(y + 1\\right) - 3$$"
      ],
      "text/plain": [
       " 3    2                         \n",
       "x  + x ⋅(-z + 2) + x⋅(y + 1) - 3"
      ]
     },
     "execution_count": 33,
     "metadata": {},
     "output_type": "execute_result"
    }
   ],
   "source": [
    "expr = x*y + x - 3 + 2*x**2 - z*x**2 + x**3\n",
    "collect(expr, x)"
   ]
  },
  {
   "cell_type": "markdown",
   "metadata": {},
   "source": [
    "- cancel()函数用于化简有理分式"
   ]
  },
  {
   "cell_type": "code",
   "execution_count": 34,
   "metadata": {},
   "outputs": [
    {
     "data": {
      "image/png": "[encoded data removed]",
      "text/latex": [
       "$$\\frac{1}{x} \\left(x + 1\\right)$$"
      ],
      "text/plain": [
       "x + 1\n",
       "─────\n",
       "  x  "
      ]
     },
     "execution_count": 34,
     "metadata": {},
     "output_type": "execute_result"
    }
   ],
   "source": [
    "cancel((x**2 + 2*x + 1)/(x**2 + x))"
   ]
  },
  {
   "cell_type": "markdown",
   "metadata": {
    "jp-MarkdownHeadingCollapsed": true,
    "slideshow": {
     "slide_type": "slide"
    }
   },
   "source": [
    "## 5. 微积分\n",
    "\n",
    "- sympy提供了非常多用于积分计算的操作符，使用他们我们可以很方便的计算定积分和不定积分\n",
    "- 使用之前应当初始化或优化python环境输出\n",
    "\n",
    "================================\n",
    "\n",
    "1.函数求导`diff(function,symbol)`\n",
    ">`diff(cos(x), x)`\n",
    ">\n",
    "2.函数求多阶导`diff(function,symbol1,...symbol_n)`或者`diff(function,symbol(same),times)`\n",
    ">`diff(x**4, x, x, x)`或者`diff(x**4, x, 3)`\n",
    ">\n",
    "\n",
    "================================\n",
    "\n",
    "1.函数的不定积分`intergrate(function,symbol)`\n",
    "\n",
    "2.函数的单重定积分`intergrate(function,(symbol,upper,lower))`\n",
    "\n",
    "3.函数的多重定积分`intergrate(function,(symbol_1,upper,lower)...,(symbol_n,upper,lower))`\n",
    "\n",
    "4.对于\\infty 符号，使用'oo'来代替\n",
    "\n",
    "================================\n",
    "\n",
    "1.函数的极限`limit(function,symbol,num/infty,direction)`\n",
    ">**解释:num/infty是极限点的取值,direction是方向:+/-/默认双侧**\n",
    ">\n",
    ">当极限不存在时，limit() 函数可能会返回 NaN (Not a Number) 或者像 AccumBounds(-1, 1) 这样的结果，表示极限在某个范围内震荡，而不是一个确定的值。  AccumBounds(-1, 1)  表明极限值在 -1 和 1 之间振荡。\n"
   ]
  },
  {
   "cell_type": "code",
   "execution_count": 35,
   "metadata": {},
   "outputs": [],
   "source": [
    "from sympy import *\n",
    "x, y, z = symbols('x y z')\n",
    "init_printing(use_unicode=True)"
   ]
  },
  {
   "cell_type": "markdown",
   "metadata": {
    "slideshow": {
     "slide_type": "slide"
    }
   },
   "source": [
    "5.1 函数求导\n",
    "\n",
    "- 使用diff()函数进行函数求导"
   ]
  },
  {
   "cell_type": "code",
   "execution_count": 36,
   "metadata": {},
   "outputs": [
    {
     "data": {
      "image/png": "[encoded data removed]",
      "text/latex": [
       "$$- \\sin{\\left (x \\right )}$$"
      ],
      "text/plain": [
       "-sin(x)"
      ]
     },
     "execution_count": 36,
     "metadata": {},
     "output_type": "execute_result"
    }
   ],
   "source": [
    "diff(cos(x), x)"
   ]
  },
  {
   "cell_type": "code",
   "execution_count": 37,
   "metadata": {},
   "outputs": [
    {
     "data": {
      "image/png": "[encoded data removed]",
      "text/latex": [
       "$$2 x e^{x^{2}}$$"
      ],
      "text/plain": [
       "     ⎛ 2⎞\n",
       "     ⎝x ⎠\n",
       "2⋅x⋅ℯ    "
      ]
     },
     "execution_count": 37,
     "metadata": {},
     "output_type": "execute_result"
    }
   ],
   "source": [
    "diff(exp(x**2), x)"
   ]
  },
  {
   "cell_type": "markdown",
   "metadata": {
    "slideshow": {
     "slide_type": "slide"
    }
   },
   "source": [
    "当使用diff()求多阶导数时，可以\n",
    "- 依次指定求导的符号\n",
    "- 指定求导符号和求导次数"
   ]
  },
  {
   "cell_type": "code",
   "execution_count": 38,
   "metadata": {},
   "outputs": [
    {
     "data": {
      "image/png": "[encoded data removed]",
      "text/latex": [
       "$$24 x$$"
      ],
      "text/plain": [
       "24⋅x"
      ]
     },
     "execution_count": 38,
     "metadata": {},
     "output_type": "execute_result"
    }
   ],
   "source": [
    "diff(x**4, x, x, x)"
   ]
  },
  {
   "cell_type": "code",
   "execution_count": 39,
   "metadata": {},
   "outputs": [
    {
     "data": {
      "image/png": "[encoded data removed]",
      "text/latex": [
       "$$24 x$$"
      ],
      "text/plain": [
       "24⋅x"
      ]
     },
     "execution_count": 39,
     "metadata": {},
     "output_type": "execute_result"
    }
   ],
   "source": [
    "diff(x**4, x, 3)"
   ]
  },
  {
   "cell_type": "code",
   "execution_count": 40,
   "metadata": {},
   "outputs": [
    {
     "data": {
      "image/png": "[encoded data removed]",
      "text/latex": [
       "$$24 x$$"
      ],
      "text/plain": [
       "24⋅x"
      ]
     },
     "execution_count": 40,
     "metadata": {},
     "output_type": "execute_result"
    }
   ],
   "source": [
    "(x**4).diff(x,3)"
   ]
  },
  {
   "cell_type": "markdown",
   "metadata": {
    "slideshow": {
     "slide_type": "slide"
    }
   },
   "source": [
    "同样的方法可以拓展到高阶混合偏导，例如："
   ]
  },
  {
   "cell_type": "code",
   "execution_count": 41,
   "metadata": {},
   "outputs": [
    {
     "data": {
      "image/png": "[encoded data removed]",
      "text/latex": [
       "$$x^{3} y^{2} \\left(x^{3} y^{3} z^{3} + 14 x^{2} y^{2} z^{2} + 52 x y z + 48\\right) e^{x y z}$$"
      ],
      "text/plain": [
       " 3  2 ⎛ 3  3  3       2  2  2                ⎞  x⋅y⋅z\n",
       "x ⋅y ⋅⎝x ⋅y ⋅z  + 14⋅x ⋅y ⋅z  + 52⋅x⋅y⋅z + 48⎠⋅ℯ     "
      ]
     },
     "execution_count": 41,
     "metadata": {},
     "output_type": "execute_result"
    }
   ],
   "source": [
    "expr = exp(x*y*z)\n",
    "diff(expr, x, y, y, z, z, z, z)"
   ]
  },
  {
   "cell_type": "code",
   "execution_count": 42,
   "metadata": {},
   "outputs": [
    {
     "data": {
      "image/png": "[encoded data removed]",
      "text/latex": [
       "$$x^{3} y^{2} \\left(x^{3} y^{3} z^{3} + 14 x^{2} y^{2} z^{2} + 52 x y z + 48\\right) e^{x y z}$$"
      ],
      "text/plain": [
       " 3  2 ⎛ 3  3  3       2  2  2                ⎞  x⋅y⋅z\n",
       "x ⋅y ⋅⎝x ⋅y ⋅z  + 14⋅x ⋅y ⋅z  + 52⋅x⋅y⋅z + 48⎠⋅ℯ     "
      ]
     },
     "execution_count": 42,
     "metadata": {},
     "output_type": "execute_result"
    }
   ],
   "source": [
    "diff(expr, x, y, 2, z, 4)"
   ]
  },
  {
   "cell_type": "code",
   "execution_count": 43,
   "metadata": {},
   "outputs": [
    {
     "data": {
      "image/png": "[encoded data removed]",
      "text/latex": [
       "$$x^{3} y^{2} \\left(x^{3} y^{3} z^{3} + 14 x^{2} y^{2} z^{2} + 52 x y z + 48\\right) e^{x y z}$$"
      ],
      "text/plain": [
       " 3  2 ⎛ 3  3  3       2  2  2                ⎞  x⋅y⋅z\n",
       "x ⋅y ⋅⎝x ⋅y ⋅z  + 14⋅x ⋅y ⋅z  + 52⋅x⋅y⋅z + 48⎠⋅ℯ     "
      ]
     },
     "execution_count": 43,
     "metadata": {},
     "output_type": "execute_result"
    }
   ],
   "source": [
    "diff(expr, x, y, y, z, 4)"
   ]
  },
  {
   "cell_type": "markdown",
   "metadata": {
    "slideshow": {
     "slide_type": "slide"
    }
   },
   "source": [
    "5.2 求积分\n",
    "\n",
    "通常使用integrate()来求某个积分表达式\n",
    "- 对于定积分，需要指定其上限、下限参数\n",
    "- 对于不定积分，则无需指定上下限参数"
   ]
  },
  {
   "cell_type": "code",
   "execution_count": 44,
   "metadata": {},
   "outputs": [
    {
     "data": {
      "image/png": "[encoded data removed]",
      "text/latex": [
       "$$\\sin{\\left (x \\right )}$$"
      ],
      "text/plain": [
       "sin(x)"
      ]
     },
     "execution_count": 44,
     "metadata": {},
     "output_type": "execute_result"
    }
   ],
   "source": [
    "integrate(cos(x),x)"
   ]
  },
  {
   "cell_type": "code",
   "execution_count": 45,
   "metadata": {},
   "outputs": [
    {
     "data": {
      "image/png": "[encoded data removed]",
      "text/latex": [
       "$$\\sin{\\left (1 \\right )}$$"
      ],
      "text/plain": [
       "sin(1)"
      ]
     },
     "execution_count": 45,
     "metadata": {},
     "output_type": "execute_result"
    }
   ],
   "source": [
    "integrate(cos(x), (x,0,1))"
   ]
  },
  {
   "cell_type": "code",
   "execution_count": 46,
   "metadata": {},
   "outputs": [
    {
     "data": {
      "image/png": "[encoded data removed]",
      "text/latex": [
       "$$0$$"
      ],
      "text/plain": [
       "0"
      ]
     },
     "execution_count": 46,
     "metadata": {},
     "output_type": "execute_result"
    }
   ],
   "source": [
    "integrate(cos(x), (x,0,pi))"
   ]
  },
  {
   "cell_type": "markdown",
   "metadata": {
    "slideshow": {
     "slide_type": "slide"
    }
   },
   "source": [
    "- 对于$\\infty$符号，使用'oo'来代替"
   ]
  },
  {
   "cell_type": "code",
   "execution_count": 47,
   "metadata": {},
   "outputs": [
    {
     "data": {
      "image/png": "[encoded data removed]",
      "text/latex": [
       "$$1$$"
      ],
      "text/plain": [
       "1"
      ]
     },
     "execution_count": 47,
     "metadata": {},
     "output_type": "execute_result"
    }
   ],
   "source": [
    "integrate(exp(-x), (x, 0, oo))"
   ]
  },
  {
   "cell_type": "markdown",
   "metadata": {},
   "source": [
    "对于二重积分$\\int_{-\\infty}^{\\infty}\\int_{-\\infty}^{\\infty} e^{-x^2-y^2}dxdy$也可以使用该函数进行计算"
   ]
  },
  {
   "cell_type": "code",
   "execution_count": 48,
   "metadata": {},
   "outputs": [
    {
     "data": {
      "image/png": "[encoded data removed]",
      "text/latex": [
       "$$\\pi$$"
      ],
      "text/plain": [
       "π"
      ]
     },
     "execution_count": 48,
     "metadata": {},
     "output_type": "execute_result"
    }
   ],
   "source": [
    "integrate(exp(-x**2 - y**2), (x, -oo, oo), (y, -oo, oo))"
   ]
  },
  {
   "cell_type": "code",
   "execution_count": 49,
   "metadata": {
    "slideshow": {
     "slide_type": "-"
    }
   },
   "outputs": [
    {
     "data": {
      "image/png": "[encoded data removed]",
      "text/latex": [
       "$$\\int_{0}^{\\infty} x^{y} e^{- x}\\, dx$$"
      ],
      "text/plain": [
       "∞          \n",
       "⌠          \n",
       "⎮  y  -x   \n",
       "⎮ x ⋅ℯ   dx\n",
       "⌡          \n",
       "0          "
      ]
     },
     "execution_count": 49,
     "metadata": {},
     "output_type": "execute_result"
    }
   ],
   "source": [
    "Integral(x**y*exp(-x), (x, 0, oo))"
   ]
  },
  {
   "cell_type": "markdown",
   "metadata": {
    "slideshow": {
     "slide_type": "slide"
    }
   },
   "source": [
    "5.3 求极限\n",
    "\n",
    "- 在sympy中使用limit()函数求下列极限 $\\lim_{x \\to +\\infty}f(x)$"
   ]
  },
  {
   "cell_type": "code",
   "execution_count": 50,
   "metadata": {},
   "outputs": [
    {
     "data": {
      "image/png": "[encoded data removed]",
      "text/latex": [
       "$$1$$"
      ],
      "text/plain": [
       "1"
      ]
     },
     "execution_count": 50,
     "metadata": {},
     "output_type": "execute_result"
    }
   ],
   "source": [
    "limit(sin(x)/x, x, 0)"
   ]
  },
  {
   "cell_type": "markdown",
   "metadata": {},
   "source": [
    "- 在求一般多项式值时候，subs()可以代替limit()，但limit()更加常用于简短、不可导、无穷的情况："
   ]
  },
  {
   "cell_type": "code",
   "execution_count": 51,
   "metadata": {},
   "outputs": [
    {
     "name": "stdout",
     "output_type": "stream",
     "text": [
      "nan\n",
      "0\n"
     ]
    }
   ],
   "source": [
    "expr = x**2/exp(x)\n",
    "print(expr.subs(x, oo))\n",
    "print(limit(expr,x,oo))"
   ]
  },
  {
   "cell_type": "markdown",
   "metadata": {
    "jp-MarkdownHeadingCollapsed": true,
    "slideshow": {
     "slide_type": "slide"
    }
   },
   "source": [
    "***\n",
    "## 6. 求解\n",
    "\n",
    "1.定义等式`Eq(function_left,function_right)`\n",
    "\n",
    "2.定义等式后对普通多项式求解`solveset(equation,symbol,domain)`\n",
    ">**解释;symbol是要求解的符号变量,domain可以限制定义域**\n",
    ">\n",
    ">solveset()会返回一解集,解集类型取决于方程的解的情况(FiniteSet/ConditionSet/EmptySet)\n",
    ">\n",
    "3.微分方程求解`dsolve()`\n",
    ">1.使用`Function('name')`定义微分方程,使用`symbols('name')`定义变量\n",
    ">\n",
    ">2.使用`diff(function,symbols,deriva-times)`表示f(x)的导数\n",
    ">>(一阶导`diff(f(x),x)`,二阶导`diff(f(x),x,x)`)\n",
    ">\n",
    ">3.定义微分方程`Eq()`(其实是建立式右侧为0的等式)\n",
    ">\n",
    ">4.使用`dsolve(Eq_func,f(x))`解方程(注意这里的因变量是f(x)了)"
   ]
  },
  {
   "cell_type": "markdown",
   "metadata": {},
   "source": [
    " 6.1 值的求解\n",
    "\n",
    "- 在sympy中，使用Eq()来表示数学表达式中的'='符号"
   ]
  },
  {
   "cell_type": "code",
   "execution_count": 52,
   "metadata": {},
   "outputs": [
    {
     "data": {
      "image/png": "[encoded data removed]",
      "text/latex": [
       "$$x = y$$"
      ],
      "text/plain": [
       "x = y"
      ]
     },
     "execution_count": 52,
     "metadata": {},
     "output_type": "execute_result"
    }
   ],
   "source": [
    "from sympy import *\n",
    "x, y, z = symbols('x y z')\n",
    "init_printing(use_unicode=True)\n",
    "# 为了避免Python中的=的强表达性,使用Eq()\n",
    "Eq(x, y)"
   ]
  },
  {
   "cell_type": "markdown",
   "metadata": {},
   "source": [
    "- 进而使用solveset()函数对普通多项式进行求解\n",
    "- 在solveset()函数默认第一个参数表达式=0"
   ]
  },
  {
   "cell_type": "code",
   "execution_count": 53,
   "metadata": {},
   "outputs": [
    {
     "name": "stdout",
     "output_type": "stream",
     "text": [
      "{-1, 1}\n",
      "{-1, 1}\n"
     ]
    }
   ],
   "source": [
    "print(solveset(Eq(x**2, 1), x))\n",
    "print(solveset(x**2 - 1, x))"
   ]
  },
  {
   "cell_type": "markdown",
   "metadata": {
    "slideshow": {
     "slide_type": "slide"
    }
   },
   "source": [
    " 6.2 代数表达式求解\n",
    "\n",
    "- 除了用于多项式值求解，solveset()函数还可以用于代数表达式的求解"
   ]
  },
  {
   "cell_type": "code",
   "execution_count": 54,
   "metadata": {},
   "outputs": [
    {
     "data": {
      "image/png": "[encoded data removed]",
      "text/latex": [
       "$$\\mathbb{R}$$"
      ],
      "text/plain": [
       "ℝ"
      ]
     },
     "execution_count": 54,
     "metadata": {},
     "output_type": "execute_result"
    }
   ],
   "source": [
    "solveset(x - x, x, domain=S.Reals)"
   ]
  },
  {
   "cell_type": "code",
   "execution_count": 55,
   "metadata": {},
   "outputs": [
    {
     "data": {
      "image/png": "[encoded data removed]",
      "text/latex": [
       "$$\\left\\{2 n \\pi + \\frac{\\pi}{2}\\; |\\; n \\in \\mathbb{Z}\\right\\}$$"
      ],
      "text/plain": [
       "⎧        π        ⎫\n",
       "⎨2⋅n⋅π + ─ | n ∊ ℤ⎬\n",
       "⎩        2        ⎭"
      ]
     },
     "execution_count": 55,
     "metadata": {},
     "output_type": "execute_result"
    }
   ],
   "source": [
    "solveset(sin(x) - 1, x, domain=S.Reals)"
   ]
  },
  {
   "cell_type": "code",
   "execution_count": 56,
   "metadata": {},
   "outputs": [
    {
     "data": {
      "image/png": "[encoded data removed]",
      "text/latex": [
       "$$\\emptyset$$"
      ],
      "text/plain": [
       "∅"
      ]
     },
     "execution_count": 56,
     "metadata": {},
     "output_type": "execute_result"
    }
   ],
   "source": [
    "solveset(exp(x), x)"
   ]
  },
  {
   "cell_type": "markdown",
   "metadata": {
    "slideshow": {
     "slide_type": "slide"
    }
   },
   "source": [
    "- 对于线性多元方程求解，可以使用solveset系列的函数linsolve()"
   ]
  },
  {
   "cell_type": "code",
   "execution_count": 57,
   "metadata": {},
   "outputs": [
    {
     "data": {
      "image/png": "[encoded data removed]",
      "text/latex": [
       "$$\\left\\{\\left ( - y - 1, \\quad y, \\quad 2\\right )\\right\\}$$"
      ],
      "text/plain": [
       "{(-y - 1, y, 2)}"
      ]
     },
     "execution_count": 57,
     "metadata": {},
     "output_type": "execute_result"
    }
   ],
   "source": [
    "linsolve([x + y + z - 1, x + y + 2*z - 3 ], (x, y, z))"
   ]
  },
  {
   "cell_type": "code",
   "execution_count": 58,
   "metadata": {},
   "outputs": [
    {
     "data": {
      "image/png": "[encoded data removed]",
      "text/latex": [
       "$$\\left\\{\\left ( - y - 1, \\quad y, \\quad 2\\right )\\right\\}$$"
      ],
      "text/plain": [
       "{(-y - 1, y, 2)}"
      ]
     },
     "execution_count": 58,
     "metadata": {},
     "output_type": "execute_result"
    }
   ],
   "source": [
    "linsolve(Matrix(([1, 1, 1, 1], [1, 1, 2, 3])), (x, y, z))"
   ]
  },
  {
   "cell_type": "markdown",
   "metadata": {
    "slideshow": {
     "slide_type": "slide"
    }
   },
   "source": [
    "- 对于非线性多元方程，可以使用nonlinsolve()函数"
   ]
  },
  {
   "cell_type": "code",
   "execution_count": 59,
   "metadata": {},
   "outputs": [
    {
     "data": {
      "image/png": "[encoded data removed]",
      "text/latex": [
       "$$\\left\\{\\left ( -1, \\quad -1\\right ), \\left ( 0, \\quad 0\\right )\\right\\}$$"
      ],
      "text/plain": [
       "{(-1, -1), (0, 0)}"
      ]
     },
     "execution_count": 59,
     "metadata": {},
     "output_type": "execute_result"
    }
   ],
   "source": [
    "a, b, c, d = symbols('a, b, c, d', real=True)\n",
    "nonlinsolve([a**2 + a, a - b], [a, b])"
   ]
  },
  {
   "cell_type": "code",
   "execution_count": 60,
   "metadata": {},
   "outputs": [
    {
     "data": {
      "image/png": "[encoded data removed]",
      "text/latex": [
       "$$\\left\\{\\left ( - i, \\quad - i\\right ), \\left ( - i, \\quad i\\right ), \\left ( i, \\quad - i\\right ), \\left ( i, \\quad i\\right )\\right\\}$$"
      ],
      "text/plain": [
       "{(-ⅈ, -ⅈ), (-ⅈ, ⅈ), (ⅈ, -ⅈ), (ⅈ, ⅈ)}"
      ]
     },
     "execution_count": 60,
     "metadata": {},
     "output_type": "execute_result"
    }
   ],
   "source": [
    "nonlinsolve([x**2 + 1, y**2 + 1], [x, y])"
   ]
  },
  {
   "cell_type": "code",
   "execution_count": 61,
   "metadata": {},
   "outputs": [
    {
     "data": {
      "image/png": "[encoded data removed]",
      "text/latex": [
       "$$\\left\\{\\left ( \\log{\\left (\\sin{\\left (\\frac{1}{3} \\right )} \\right )}, \\quad \\frac{1}{3}\\right ), \\left ( \\left\\{2 n i \\pi + \\left(\\log{\\left (\\sin{\\left (\\frac{1}{3} \\right )} \\right )}\\bmod{2 i \\pi}\\right)\\; |\\; n \\in \\mathbb{Z}\\right\\}, \\quad \\frac{1}{3}\\right )\\right\\}$$"
      ],
      "text/plain": [
       "{(log(sin(1/3)), 1/3), ({2⋅n⋅ⅈ⋅π + (log(sin(1/3)) mod 2⋅ⅈ⋅π) | n ∊ ℤ}, 1/3)}"
      ]
     },
     "execution_count": 61,
     "metadata": {},
     "output_type": "execute_result"
    }
   ],
   "source": [
    "nonlinsolve([exp(x) - sin(y), 1/y - 3],  [x, y])"
   ]
  },
  {
   "cell_type": "markdown",
   "metadata": {
    "slideshow": {
     "slide_type": "slide"
    }
   },
   "source": [
    "6.3 微分方程求解\n",
    "\n",
    "- sympy 使用dsolve()函数来求解微分方程\n",
    "- 需要指定cls=Function参数来生成函数符号对象"
   ]
  },
  {
   "cell_type": "code",
   "execution_count": 62,
   "metadata": {},
   "outputs": [
    {
     "data": {
      "image/png": "[encoded data removed]",
      "text/latex": [
       "$$f{\\left (x \\right )}$$"
      ],
      "text/plain": [
       "f(x)"
      ]
     },
     "execution_count": 62,
     "metadata": {},
     "output_type": "execute_result"
    }
   ],
   "source": [
    "from sympy import *\n",
    "init_printing()\n",
    "x, y, z = symbols('x y z')\n",
    "f, g = symbols('f g', cls=Function)\n",
    "f(x)"
   ]
  },
  {
   "cell_type": "code",
   "execution_count": 63,
   "metadata": {},
   "outputs": [
    {
     "data": {
      "image/png": "[encoded data removed]",
      "text/latex": [
       "$$\\frac{d}{d x} f{\\left (x \\right )}$$"
      ],
      "text/plain": [
       "d       \n",
       "──(f(x))\n",
       "dx      "
      ]
     },
     "execution_count": 63,
     "metadata": {},
     "output_type": "execute_result"
    }
   ],
   "source": [
    "f(x).diff(x)"
   ]
  },
  {
   "cell_type": "markdown",
   "metadata": {
    "slideshow": {
     "slide_type": "slide"
    }
   },
   "source": [
    "将常微分方程 $f''(x)-2f'(x)+f(x)=sin(x)$转化为sympy数学表达式："
   ]
  },
  {
   "cell_type": "code",
   "execution_count": 64,
   "metadata": {},
   "outputs": [],
   "source": [
    "diffeq = Eq(f(x).diff(x, x) - 2*f(x).diff(x) + f(x), sin(x))"
   ]
  },
  {
   "cell_type": "markdown",
   "metadata": {},
   "source": [
    "求解以上常微分方程："
   ]
  },
  {
   "cell_type": "code",
   "execution_count": 65,
   "metadata": {},
   "outputs": [
    {
     "data": {
      "image/png": "[encoded data removed]",
      "text/latex": [
       "$$f{\\left (x \\right )} = \\left(C_{1} + C_{2} x\\right) e^{x} + \\frac{1}{2} \\cos{\\left (x \\right )}$$"
      ],
      "text/plain": [
       "                    x   cos(x)\n",
       "f(x) = (C₁ + C₂⋅x)⋅ℯ  + ──────\n",
       "                          2   "
      ]
     },
     "execution_count": 65,
     "metadata": {},
     "output_type": "execute_result"
    }
   ],
   "source": [
    " dsolve(diffeq, f(x))"
   ]
  },
  {
   "cell_type": "markdown",
   "metadata": {
    "slideshow": {
     "slide_type": "slide"
    }
   },
   "source": [
    "***\n",
    "## 本节作业\n",
    "\n",
    "利用sympy包的函数求解下列数学问题\n",
    "\n",
    "### (1)\n",
    "\n",
    "求解下列极限\n",
    "\n",
    "$$\\lim_{x\\rightarrow 0}\\frac{e-e^{\\cos{x}}}{\\sqrt[3]{1+x^2}-1}$$\n",
    "\n",
    "\n",
    "### (2)\n",
    "\n",
    "求下列二重积分，其中$D$为$x=1,x=2,xy=1,y=2$所围成的平面区域\n",
    "\n",
    "$$\\iint_D y e^{xy} dxdy $$ \n",
    "\n",
    "\n",
    "### (3)\n",
    "\n",
    "求解下常微分方程，并利用其结果求在初始值$(0,\\frac{1}{2})$及$(\\frac{\\pi}{2},\\frac{1}{2}+\\frac{\\pi}{2})$处的解\n",
    "\n",
    "$$y''+y=x$$"
   ]
  },
  {
   "cell_type": "code",
   "execution_count": 16,
   "metadata": {},
   "outputs": [
    {
     "name": "stdout",
     "output_type": "stream",
     "text": [
      "3*E/2\n"
     ]
    }
   ],
   "source": [
    "# 202318140413 周兴\n",
    "# 题目1:求指定方程的极限\n",
    "from sympy import *\n",
    "x = symbols('x')\n",
    "expr = (E - E**cos(x)) / ((1 + x**2)**(1/3) - 1)\n",
    "result = limit(expr, x, 0)\n",
    "print(f\"{result}\")"
   ]
  },
  {
   "cell_type": "code",
   "execution_count": 78,
   "metadata": {},
   "outputs": [
    {
     "name": "stdout",
     "output_type": "stream",
     "text": [
      "result:-exp(2) + exp(4)/2\n"
     ]
    }
   ],
   "source": [
    "# 202318140413 周兴\n",
    "# 题目2:求二重积分的解\n",
    "x, y = symbols('x y')\n",
    "func = y * exp(x*y)\n",
    "# 图解法x先对y积分:x \\in (1,2);y \\in (1/x,2)\n",
    "result = integrate(func,(y,1/x,2),(x,1,2))\n",
    "print(f\"result:{result}\")"
   ]
  },
  {
   "cell_type": "markdown",
   "metadata": {},
   "source": [
    "**二重积分复习**\n",
    "\n",
    "1.画出区域(x=1,x=2,xy=1,y=2)(是一个下边界圆滑的梯形)\n",
    "\n",
    "2.垂直的细线进行扫描:$ \\ $对于每个固定的x,下端始终在1/x上,上端始终在y=2上(dydx顺序)->内层y外层x\n",
    "\n",
    "  $\\quad$水平的细线进行扫描:$ \\ $y在区域[1/2,1]和[1,2]需要分类讨论\n",
    "  \n",
    "3.根据得到的上下界代入sympy"
   ]
  },
  {
   "cell_type": "code",
   "execution_count": 81,
   "metadata": {},
   "outputs": [
    {
     "name": "stdout",
     "output_type": "stream",
     "text": [
      "通解:Eq(y(x), C1*sin(x) + C2*cos(x) + x)\n",
      "即:f(x) = C1*sin(x) + C2*cos(x) + x\n",
      "\n",
      "特解:Eq(y(x), x + sin(x)/2 + cos(x)/2)\n",
      "即:f(x) = x + sin(x)/2 + cos(x)/2\n"
     ]
    }
   ],
   "source": [
    "# 202318140413 周兴\n",
    "from sympy import *\n",
    "import math\n",
    "x = symbols('x')\n",
    "y = Function('y')\n",
    "C1, C2 = symbols('C1 C2') \n",
    "ode = Eq( y(x).diff(x, x)+y(x) , x)\n",
    "result = dsolve(ode, y(x))\n",
    "expr = result.rhs #得到通解方程右侧部分的主体\n",
    "\n",
    "x_1 = 0\n",
    "y_1 = Rational(1,2)\n",
    "x_2 = pi/2\n",
    "y_2 = Rational(1,2) + x_2\n",
    "\n",
    "#特解:建立等式->根据已知点求C1,C2\n",
    "C1_Eq = Eq(expr.subs(x,x_2),y_2)\n",
    "C2_Eq = Eq(expr.subs(x,x_1),y_1)\n",
    "solution = solve([C1_Eq, C2_Eq], [C1, C2])\n",
    "C1_solution = solution[C1]\n",
    "C2_solution = solution[C2]\n",
    "result_solveset = result.subs([(C1,C1_solution),(C2,C2_solution)])\n",
    "\n",
    "print(f\"通解:{result}\")\n",
    "print(f\"即:f(x) = {result.rhs}\\n\")\n",
    "print(f\"特解:{result_solveset}\")\n",
    "print(f\"即:f(x) = {result_solveset.rhs}\")"
   ]
  }
 ],
 "metadata": {
  "kernelspec": {
   "display_name": "Python 3 (ipykernel)",
   "language": "python",
   "name": "python3"
  },
  "language_info": {
   "codemirror_mode": {
    "name": "ipython",
    "version": 3
   },
   "file_extension": ".py",
   "mimetype": "text/x-python",
   "name": "python",
   "nbconvert_exporter": "python",
   "pygments_lexer": "ipython3",
   "version": "3.12.7"
  },
  "widgets": {
   "application/vnd.jupyter.widget-state+json": {
    "state": {},
    "version_major": 2,
    "version_minor": 0
   }
  }
 },
 "nbformat": 4,
 "nbformat_minor": 4
}
