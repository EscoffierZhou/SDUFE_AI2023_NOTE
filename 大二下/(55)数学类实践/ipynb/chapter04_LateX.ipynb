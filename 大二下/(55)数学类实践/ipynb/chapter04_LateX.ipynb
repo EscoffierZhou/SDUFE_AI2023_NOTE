{
 "cells": [
  {
   "metadata": {},
   "cell_type": "markdown",
   "source": [
    "$$\n",
    "\\begin{equation}\n",
    "\\begin{aligned}\n",
    "\\lim_{x\\to 0}\\frac{1-cosx}{x^2} &= \\lim_{x\\to0}\\frac{2sin^2\\frac{x}{2}}{x^2}\\\\\n",
    "&=\\frac{1}{2}\\lim_{x\\to 0}\\frac{sin^2\\frac{x}{2}}{(\\frac{x}{2})^2}\\\\\n",
    "&=\\frac{1}{2}\\lim_{x\\to 0}\\bigg(\\frac{sin\\frac{x}{2}}{\\frac{x}{2}}\\bigg)^2 = \\frac{1}{2}\n",
    "\\end{aligned}\n",
    "\\end{equation}\n",
    "$$"
   ],
   "id": "bbb18ce3ad887534"
  },
  {
   "metadata": {},
   "cell_type": "markdown",
   "source": [
    "$$\n",
    "\\left\\{\\\n",
    "\\begin{aligned}\n",
    "x = \\rho(\\theta)cos\\theta\\\\\n",
    "y = \\rho(\\theta)sin\\theta\n",
    "\\end{aligned}\n",
    "\\right.\\\n",
    "(\\alpha \\leq \\theta \\leq\\beta)\n",
    "$$"
   ],
   "id": "f253540d53621077"
  },
  {
   "metadata": {},
   "cell_type": "markdown",
   "source": [
    "$$\n",
    "\\det \\mathbf{A} = \\det \\begin{pmatrix}\n",
    "a_{11} & a_{12} & \\cdots & a_{11} \\\\\n",
    "a_{21} & a_{22} & \\cdots & a_{21} \\\\\n",
    "a_{31} & a_{32} & \\cdots & a_{31} \\\\\n",
    "\\vdots & \\vdots & \\vdots & \\vdots \\\\\n",
    "a_{m1} & a_{m2} & \\cdots & a_{m1}\n",
    "\\end{pmatrix} = \\begin{vmatrix}\n",
    "a_{11} & a_{12} & \\cdots & a_{11} \\\\\n",
    "a_{21} & a_{22} & \\cdots & a_{21} \\\\\n",
    "a_{31} & a_{32} & \\cdots & a_{31} \\\\\n",
    "\\vdots & \\vdots & \\vdots & \\vdots \\\\\n",
    "a_{m1} & a_{m2} & \\cdots & a_{m1}\n",
    "\\end{vmatrix}\n",
    "$$"
   ],
   "id": "c5dd2922c9f07a9e"
  }
 ],
 "metadata": {
  "kernelspec": {
   "display_name": "Python 3",
   "language": "python",
   "name": "python3"
  },
  "language_info": {
   "codemirror_mode": {
    "name": "ipython",
    "version": 2
   },
   "file_extension": ".py",
   "mimetype": "text/x-python",
   "name": "python",
   "nbconvert_exporter": "python",
   "pygments_lexer": "ipython2",
   "version": "2.7.6"
  }
 },
 "nbformat": 4,
 "nbformat_minor": 5
}
